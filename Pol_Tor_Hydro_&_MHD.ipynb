{
 "cells": [
  {
   "cell_type": "markdown",
   "id": "7cb88851-cd02-46f3-aa99-3b883f77409e",
   "metadata": {
    "tags": []
   },
   "source": [
    "# Cylindrical Magneto-Coriolis Modes"
   ]
  },
  {
   "cell_type": "markdown",
   "id": "d2244ccd-6df1-4df6-9fbc-2c6e1bcdd973",
   "metadata": {},
   "source": [
    "This notebook builds a complete symbolic-to-numerical pipeline to compute linear **magneto-Coriolis modes** in a rotating cylinder using a **toroidal–poloidal** formulation. Velocity and magnetic perturbations are expanded as Fourier modes $e^{i(k z + m\\varphi - \\omega t)}$ with radial amplitudes defined by the potentials $(T,P)$ for the flow and $(G,F)$ for the magnetic field. With SageMath’s differential operators in cylindrical coordinates, we construct the linearized momentum and induction equations, and assemble a coupled radial system for $[T,P,G,F]^T$. Boundary conditions at the cylinder radius $s=a$ are imposed by matching the interior field to an exterior current-free field $\\boldsymbol B_{\\text{ext}}=-\\nabla\\Phi$. The resulting problem is a generalized eigenvalue problem, which is solved numerically (SciPy) to obtain radial eigenvalues and associated spectra $\\omega\\,(m, n, k)$."
   ]
  },
  {
   "cell_type": "markdown",
   "id": "db45ed22-be1a-42df-a908-268517d193a7",
   "metadata": {
    "jp-MarkdownHeadingCollapsed": true,
    "tags": []
   },
   "source": [
    "## 1. Definitions"
   ]
  },
  {
   "cell_type": "code",
   "execution_count": 1,
   "id": "d54f8e10",
   "metadata": {},
   "outputs": [
    {
     "data": {
      "text/plain": [
       "'SageMath version 10.2, Release Date: 2023-12-03'"
      ]
     },
     "execution_count": 1,
     "metadata": {},
     "output_type": "execute_result"
    }
   ],
   "source": [
    "version()"
   ]
  },
  {
   "cell_type": "code",
   "execution_count": 2,
   "id": "2c34c3c8",
   "metadata": {},
   "outputs": [],
   "source": [
    "%display latex "
   ]
  },
  {
   "cell_type": "code",
   "execution_count": 3,
   "id": "1ba20c97",
   "metadata": {},
   "outputs": [
    {
     "name": "stdout",
     "output_type": "stream",
     "text": [
      "Euclidean space E^3\n"
     ]
    },
    {
     "data": {
      "text/html": [
       "<html>\\(\\displaystyle \\mathbb{E}^{3}\\)</html>"
      ],
      "text/latex": [
       "$\\displaystyle \\mathbb{E}^{3}$"
      ],
      "text/plain": [
       "Euclidean space E^3"
      ]
     },
     "execution_count": 3,
     "metadata": {},
     "output_type": "execute_result"
    }
   ],
   "source": [
    "E.<s,ph,z> = EuclideanSpace(coordinates='cylindrical')\n",
    "print(E)\n",
    "E"
   ]
  },
  {
   "cell_type": "code",
   "execution_count": 4,
   "id": "a8aec662",
   "metadata": {},
   "outputs": [],
   "source": [
    "var('k');\n",
    "var('m');\n",
    "var('ω');\n",
    "var('Omega');\n",
    "var('t');\n",
    "var('B0');\n",
    "var('a');\n",
    "var('mu');\n",
    "var('rho');\n",
    "var('C1');"
   ]
  },
  {
   "cell_type": "code",
   "execution_count": 8,
   "id": "675c6853",
   "metadata": {},
   "outputs": [],
   "source": [
    "e_s=E.cylindrical_frame()[1]\n",
    "e_ph=E.cylindrical_frame()[2]\n",
    "e_z=E.cylindrical_frame()[3]"
   ]
  },
  {
   "cell_type": "markdown",
   "id": "ac5e400c-9de6-44cd-af14-6c4b8183c7d9",
   "metadata": {
    "tags": []
   },
   "source": [
    "### Toroidal - Poloidal Fields"
   ]
  },
  {
   "cell_type": "code",
   "execution_count": 9,
   "id": "85ec8d8f",
   "metadata": {},
   "outputs": [
    {
     "data": {
      "text/html": [
       "<html>\\(\\displaystyle \\begin{array}{llcl} T:& \\mathbb{E}^{3} & \\longrightarrow & \\mathbb{R} \\\\ & \\left(s, {\\phi}, z\\right) & \\longmapsto & T\\left(s\\right) e^{\\left(i \\, m {\\phi} + i \\, k z + i \\, t ω\\right)} \\end{array}\\)</html>"
      ],
      "text/latex": [
       "$\\displaystyle \\begin{array}{llcl} T:& \\mathbb{E}^{3} & \\longrightarrow & \\mathbb{R} \\\\ & \\left(s, {\\phi}, z\\right) & \\longmapsto & T\\left(s\\right) e^{\\left(i \\, m {\\phi} + i \\, k z + i \\, t ω\\right)} \\end{array}$"
      ],
      "text/plain": [
       "T: E^3 → ℝ\n",
       "   (s, ph, z) ↦ T(s)*e^(I*m*ph + I*k*z + I*t*ω)"
      ]
     },
     "execution_count": 9,
     "metadata": {},
     "output_type": "execute_result"
    }
   ],
   "source": [
    "T = E.scalar_field(function('T')(s)*exp(I*k*z)*exp(I*m*ph)*exp(I*ω*t), name='T')\n",
    "T.display()"
   ]
  },
  {
   "cell_type": "code",
   "execution_count": 10,
   "id": "2fc54aa9-d366-48b0-9b10-2c05c36ed5df",
   "metadata": {},
   "outputs": [
    {
     "data": {
      "text/html": [
       "<html>\\(\\displaystyle \\begin{array}{llcl} G:& \\mathbb{E}^{3} & \\longrightarrow & \\mathbb{R} \\\\ & \\left(s, {\\phi}, z\\right) & \\longmapsto & G\\left(s\\right) e^{\\left(i \\, m {\\phi} + i \\, k z + i \\, t ω\\right)} \\end{array}\\)</html>"
      ],
      "text/latex": [
       "$\\displaystyle \\begin{array}{llcl} G:& \\mathbb{E}^{3} & \\longrightarrow & \\mathbb{R} \\\\ & \\left(s, {\\phi}, z\\right) & \\longmapsto & G\\left(s\\right) e^{\\left(i \\, m {\\phi} + i \\, k z + i \\, t ω\\right)} \\end{array}$"
      ],
      "text/plain": [
       "G: E^3 → ℝ\n",
       "   (s, ph, z) ↦ G(s)*e^(I*m*ph + I*k*z + I*t*ω)"
      ]
     },
     "execution_count": 10,
     "metadata": {},
     "output_type": "execute_result"
    }
   ],
   "source": [
    "G = E.scalar_field(function('G')(s)*exp(I*k*z)*exp(I*m*ph)*exp(I*ω*t), name='G')\n",
    "G.display()"
   ]
  },
  {
   "cell_type": "code",
   "execution_count": 11,
   "id": "9b621ae8",
   "metadata": {},
   "outputs": [
    {
     "data": {
      "text/html": [
       "<html>\\(\\displaystyle \\begin{array}{llcl} P:& \\mathbb{E}^{3} & \\longrightarrow & \\mathbb{R} \\\\ & \\left(s, {\\phi}, z\\right) & \\longmapsto & P\\left(s\\right) e^{\\left(i \\, m {\\phi} + i \\, k z + i \\, t ω\\right)} \\end{array}\\)</html>"
      ],
      "text/latex": [
       "$\\displaystyle \\begin{array}{llcl} P:& \\mathbb{E}^{3} & \\longrightarrow & \\mathbb{R} \\\\ & \\left(s, {\\phi}, z\\right) & \\longmapsto & P\\left(s\\right) e^{\\left(i \\, m {\\phi} + i \\, k z + i \\, t ω\\right)} \\end{array}$"
      ],
      "text/plain": [
       "P: E^3 → ℝ\n",
       "   (s, ph, z) ↦ P(s)*e^(I*m*ph + I*k*z + I*t*ω)"
      ]
     },
     "execution_count": 11,
     "metadata": {},
     "output_type": "execute_result"
    }
   ],
   "source": [
    "P = E.scalar_field(function('P')(s)*exp(I*k*z)*exp(I*m*ph)*exp(I*ω*t), name='P')\n",
    "P.display()"
   ]
  },
  {
   "cell_type": "code",
   "execution_count": 12,
   "id": "ca56a3c3-30a8-4846-bcca-d76bf17235cb",
   "metadata": {},
   "outputs": [
    {
     "data": {
      "text/html": [
       "<html>\\(\\displaystyle \\begin{array}{llcl} F:& \\mathbb{E}^{3} & \\longrightarrow & \\mathbb{R} \\\\ & \\left(s, {\\phi}, z\\right) & \\longmapsto & F\\left(s\\right) e^{\\left(i \\, m {\\phi} + i \\, k z + i \\, t ω\\right)} \\end{array}\\)</html>"
      ],
      "text/latex": [
       "$\\displaystyle \\begin{array}{llcl} F:& \\mathbb{E}^{3} & \\longrightarrow & \\mathbb{R} \\\\ & \\left(s, {\\phi}, z\\right) & \\longmapsto & F\\left(s\\right) e^{\\left(i \\, m {\\phi} + i \\, k z + i \\, t ω\\right)} \\end{array}$"
      ],
      "text/plain": [
       "F: E^3 → ℝ\n",
       "   (s, ph, z) ↦ F(s)*e^(I*m*ph + I*k*z + I*t*ω)"
      ]
     },
     "execution_count": 12,
     "metadata": {},
     "output_type": "execute_result"
    }
   ],
   "source": [
    "F = E.scalar_field(function('F')(s)*exp(I*k*z)*exp(I*m*ph)*exp(I*ω*t), name='F')\n",
    "F.display()"
   ]
  },
  {
   "cell_type": "code",
   "execution_count": 13,
   "id": "1ed47c35",
   "metadata": {},
   "outputs": [],
   "source": [
    "from sage.manifolds.operators import *\n",
    "from sage.manifolds.operators import grad"
   ]
  },
  {
   "cell_type": "markdown",
   "id": "92d99ef0-24e5-4c7c-96c0-b81facd5707a",
   "metadata": {
    "jp-MarkdownHeadingCollapsed": true,
    "tags": []
   },
   "source": [
    "## 2. Hydrodynamic"
   ]
  },
  {
   "cell_type": "markdown",
   "id": "f24c0ac9",
   "metadata": {
    "tags": []
   },
   "source": [
    "### Velocity field"
   ]
  },
  {
   "cell_type": "code",
   "execution_count": 14,
   "id": "494a0d22",
   "metadata": {},
   "outputs": [
    {
     "data": {
      "text/html": [
       "<html>\\(\\displaystyle \\mathrm{curl}\\left( T \\cdot e_{ s } \\right) + \\mathrm{curl}\\left( \\mathrm{curl}\\left( P \\cdot e_{ s } \\right) \\right) = \\frac{{\\left(k^{2} s^{2} e^{\\left(i \\, m {\\phi}\\right)} + m^{2} e^{\\left(i \\, m {\\phi}\\right)}\\right)} P\\left(s\\right) e^{\\left(i \\, k z + i \\, t ω\\right)}}{s^{2}} e_{ s } + \\frac{{\\left(i \\, k s^{2} T\\left(s\\right) e^{\\left(i \\, m {\\phi}\\right)} + i \\, m s e^{\\left(i \\, m {\\phi}\\right)} \\frac{\\partial\\,P}{\\partial s} - i \\, m P\\left(s\\right) e^{\\left(i \\, m {\\phi}\\right)}\\right)} e^{\\left(i \\, k z + i \\, t ω\\right)}}{s^{2}} e_{ {\\phi} } + \\frac{{\\left(i \\, k s e^{\\left(i \\, m {\\phi}\\right)} \\frac{\\partial\\,P}{\\partial s} + i \\, k P\\left(s\\right) e^{\\left(i \\, m {\\phi}\\right)} - i \\, m T\\left(s\\right) e^{\\left(i \\, m {\\phi}\\right)}\\right)} e^{\\left(i \\, k z + i \\, t ω\\right)}}{s} e_{ z }\\)</html>"
      ],
      "text/latex": [
       "$\\displaystyle \\mathrm{curl}\\left( T \\cdot e_{ s } \\right) + \\mathrm{curl}\\left( \\mathrm{curl}\\left( P \\cdot e_{ s } \\right) \\right) = \\frac{{\\left(k^{2} s^{2} e^{\\left(i \\, m {\\phi}\\right)} + m^{2} e^{\\left(i \\, m {\\phi}\\right)}\\right)} P\\left(s\\right) e^{\\left(i \\, k z + i \\, t ω\\right)}}{s^{2}} e_{ s } + \\frac{{\\left(i \\, k s^{2} T\\left(s\\right) e^{\\left(i \\, m {\\phi}\\right)} + i \\, m s e^{\\left(i \\, m {\\phi}\\right)} \\frac{\\partial\\,P}{\\partial s} - i \\, m P\\left(s\\right) e^{\\left(i \\, m {\\phi}\\right)}\\right)} e^{\\left(i \\, k z + i \\, t ω\\right)}}{s^{2}} e_{ {\\phi} } + \\frac{{\\left(i \\, k s e^{\\left(i \\, m {\\phi}\\right)} \\frac{\\partial\\,P}{\\partial s} + i \\, k P\\left(s\\right) e^{\\left(i \\, m {\\phi}\\right)} - i \\, m T\\left(s\\right) e^{\\left(i \\, m {\\phi}\\right)}\\right)} e^{\\left(i \\, k z + i \\, t ω\\right)}}{s} e_{ z }$"
      ],
      "text/plain": [
       "curl(T*e_s)+curl(curl(P*e_s)) = (k^2*s^2*e^(I*m*ph) + m^2*e^(I*m*ph))*P(s)*e^(I*k*z + I*t*ω)/s^2 e_s + (I*k*s^2*T(s)*e^(I*m*ph) + I*m*s*e^(I*m*ph)*d(P)/ds - I*m*P(s)*e^(I*m*ph))*e^(I*k*z + I*t*ω)/s^2 e_ph + (I*k*s*e^(I*m*ph)*d(P)/ds + I*k*P(s)*e^(I*m*ph) - I*m*T(s)*e^(I*m*ph))*e^(I*k*z + I*t*ω)/s e_z"
      ]
     },
     "execution_count": 14,
     "metadata": {},
     "output_type": "execute_result"
    }
   ],
   "source": [
    "v= curl(T*e_s) + curl(curl(P*e_s))\n",
    "v.display()"
   ]
  },
  {
   "cell_type": "markdown",
   "id": "07ae656c-88fa-4ba1-8282-a303746e72ae",
   "metadata": {},
   "source": [
    " \\begin{align}\n",
    "    v_s &= \\left( k^2 P(s) + \\frac{m^2}{s^2}P(s) \\right) e^{i(kz + m\\varphi + \\omega t)}  \\\\\n",
    "    v_{\\varphi} &= \\left(ik T(s) + \\frac{im}{s}\\frac{\\partial P}{\\partial s} - \\frac{im}{s^2}P(s) \\right) e^{i(kz + m\\varphi + \\omega t)} \\\\\n",
    "    v_z &= \\left( ik \\frac{\\partial P}{\\partial s} + \\frac{ik}{s}P(s) - \\frac{im}{s}T(s) \\right) e^{i(kz + m\\varphi + \\omega t)}\n",
    "\\end{align}"
   ]
  },
  {
   "cell_type": "code",
   "execution_count": 15,
   "id": "a1fba45c-89c8-44fe-af51-7317d7c6608d",
   "metadata": {},
   "outputs": [
    {
     "data": {
      "text/html": [
       "<html>\\(\\displaystyle \\frac{{\\left(i \\, k^{2} s^{2} e^{\\left(i \\, m {\\phi}\\right)} + i \\, m^{2} e^{\\left(i \\, m {\\phi}\\right)}\\right)} ω P\\left(s\\right) e^{\\left(i \\, k z + i \\, t ω\\right)}}{s^{2}} e_{ s } -\\frac{{\\left(k s^{2} T\\left(s\\right) e^{\\left(i \\, m {\\phi}\\right)} + m s e^{\\left(i \\, m {\\phi}\\right)} \\frac{\\partial\\,P}{\\partial s} - m P\\left(s\\right) e^{\\left(i \\, m {\\phi}\\right)}\\right)} ω e^{\\left(i \\, k z + i \\, t ω\\right)}}{s^{2}} e_{ {\\phi} } -\\frac{{\\left(k s e^{\\left(i \\, m {\\phi}\\right)} \\frac{\\partial\\,P}{\\partial s} + k P\\left(s\\right) e^{\\left(i \\, m {\\phi}\\right)} - m T\\left(s\\right) e^{\\left(i \\, m {\\phi}\\right)}\\right)} ω e^{\\left(i \\, k z + i \\, t ω\\right)}}{s} e_{ z }\\)</html>"
      ],
      "text/latex": [
       "$\\displaystyle \\frac{{\\left(i \\, k^{2} s^{2} e^{\\left(i \\, m {\\phi}\\right)} + i \\, m^{2} e^{\\left(i \\, m {\\phi}\\right)}\\right)} ω P\\left(s\\right) e^{\\left(i \\, k z + i \\, t ω\\right)}}{s^{2}} e_{ s } -\\frac{{\\left(k s^{2} T\\left(s\\right) e^{\\left(i \\, m {\\phi}\\right)} + m s e^{\\left(i \\, m {\\phi}\\right)} \\frac{\\partial\\,P}{\\partial s} - m P\\left(s\\right) e^{\\left(i \\, m {\\phi}\\right)}\\right)} ω e^{\\left(i \\, k z + i \\, t ω\\right)}}{s^{2}} e_{ {\\phi} } -\\frac{{\\left(k s e^{\\left(i \\, m {\\phi}\\right)} \\frac{\\partial\\,P}{\\partial s} + k P\\left(s\\right) e^{\\left(i \\, m {\\phi}\\right)} - m T\\left(s\\right) e^{\\left(i \\, m {\\phi}\\right)}\\right)} ω e^{\\left(i \\, k z + i \\, t ω\\right)}}{s} e_{ z }$"
      ],
      "text/plain": [
       "(I*k^2*s^2*e^(I*m*ph) + I*m^2*e^(I*m*ph))*ω*P(s)*e^(I*k*z + I*t*ω)/s^2 e_s - (k*s^2*T(s)*e^(I*m*ph) + m*s*e^(I*m*ph)*d(P)/ds - m*P(s)*e^(I*m*ph))*ω*e^(I*k*z + I*t*ω)/s^2 e_ph - (k*s*e^(I*m*ph)*d(P)/ds + k*P(s)*e^(I*m*ph) - m*T(s)*e^(I*m*ph))*ω*e^(I*k*z + I*t*ω)/s e_z"
      ]
     },
     "execution_count": 15,
     "metadata": {},
     "output_type": "execute_result"
    }
   ],
   "source": [
    "dt_v = I*ω*v\n",
    "dt_v.display()"
   ]
  },
  {
   "cell_type": "markdown",
   "id": "118ef311-e82f-46f4-961c-a593a7da1987",
   "metadata": {
    "tags": []
   },
   "source": [
    "### Navier-Stokes equations"
   ]
  },
  {
   "cell_type": "code",
   "execution_count": 12,
   "id": "2810d5bd-2139-46f1-83fa-2580d2da9ea7",
   "metadata": {},
   "outputs": [
    {
     "data": {
      "text/html": [
       "<html>\\(\\displaystyle \\frac{{\\left({\\left(i \\, k^{2} s^{2} e^{\\left(i \\, m {\\phi}\\right)} + i \\, m^{2} e^{\\left(i \\, m {\\phi}\\right)}\\right)} ω P\\left(s\\right) e^{\\left(i \\, k z\\right)} - 2 \\, {\\left(i \\, \\Omega k s^{2} T\\left(s\\right) e^{\\left(i \\, m {\\phi}\\right)} + i \\, \\Omega m s e^{\\left(i \\, m {\\phi}\\right)} \\frac{\\partial\\,P}{\\partial s} - i \\, \\Omega m P\\left(s\\right) e^{\\left(i \\, m {\\phi}\\right)}\\right)} e^{\\left(i \\, k z\\right)}\\right)} e^{\\left(i \\, t ω\\right)}}{s^{2}} e_{ s } -\\frac{{\\left({\\left(k s^{2} T\\left(s\\right) e^{\\left(i \\, m {\\phi}\\right)} + m s e^{\\left(i \\, m {\\phi}\\right)} \\frac{\\partial\\,P}{\\partial s} - m P\\left(s\\right) e^{\\left(i \\, m {\\phi}\\right)}\\right)} ω e^{\\left(i \\, k z\\right)} - 2 \\, {\\left(\\Omega k^{2} s^{2} e^{\\left(i \\, m {\\phi}\\right)} + \\Omega m^{2} e^{\\left(i \\, m {\\phi}\\right)}\\right)} P\\left(s\\right) e^{\\left(i \\, k z\\right)}\\right)} e^{\\left(i \\, t ω\\right)}}{s^{2}} e_{ {\\phi} } -\\frac{{\\left(k s e^{\\left(i \\, m {\\phi}\\right)} \\frac{\\partial\\,P}{\\partial s} + k P\\left(s\\right) e^{\\left(i \\, m {\\phi}\\right)} - m T\\left(s\\right) e^{\\left(i \\, m {\\phi}\\right)}\\right)} ω e^{\\left(i \\, k z + i \\, t ω\\right)}}{s} e_{ z }\\)</html>"
      ],
      "text/latex": [
       "$\\displaystyle \\frac{{\\left({\\left(i \\, k^{2} s^{2} e^{\\left(i \\, m {\\phi}\\right)} + i \\, m^{2} e^{\\left(i \\, m {\\phi}\\right)}\\right)} ω P\\left(s\\right) e^{\\left(i \\, k z\\right)} - 2 \\, {\\left(i \\, \\Omega k s^{2} T\\left(s\\right) e^{\\left(i \\, m {\\phi}\\right)} + i \\, \\Omega m s e^{\\left(i \\, m {\\phi}\\right)} \\frac{\\partial\\,P}{\\partial s} - i \\, \\Omega m P\\left(s\\right) e^{\\left(i \\, m {\\phi}\\right)}\\right)} e^{\\left(i \\, k z\\right)}\\right)} e^{\\left(i \\, t ω\\right)}}{s^{2}} e_{ s } -\\frac{{\\left({\\left(k s^{2} T\\left(s\\right) e^{\\left(i \\, m {\\phi}\\right)} + m s e^{\\left(i \\, m {\\phi}\\right)} \\frac{\\partial\\,P}{\\partial s} - m P\\left(s\\right) e^{\\left(i \\, m {\\phi}\\right)}\\right)} ω e^{\\left(i \\, k z\\right)} - 2 \\, {\\left(\\Omega k^{2} s^{2} e^{\\left(i \\, m {\\phi}\\right)} + \\Omega m^{2} e^{\\left(i \\, m {\\phi}\\right)}\\right)} P\\left(s\\right) e^{\\left(i \\, k z\\right)}\\right)} e^{\\left(i \\, t ω\\right)}}{s^{2}} e_{ {\\phi} } -\\frac{{\\left(k s e^{\\left(i \\, m {\\phi}\\right)} \\frac{\\partial\\,P}{\\partial s} + k P\\left(s\\right) e^{\\left(i \\, m {\\phi}\\right)} - m T\\left(s\\right) e^{\\left(i \\, m {\\phi}\\right)}\\right)} ω e^{\\left(i \\, k z + i \\, t ω\\right)}}{s} e_{ z }$"
      ],
      "text/plain": [
       "((I*k^2*s^2*e^(I*m*ph) + I*m^2*e^(I*m*ph))*ω*P(s)*e^(I*k*z) - 2*(I*Omega*k*s^2*T(s)*e^(I*m*ph) + I*Omega*m*s*e^(I*m*ph)*d(P)/ds - I*Omega*m*P(s)*e^(I*m*ph))*e^(I*k*z))*e^(I*t*ω)/s^2 e_s - ((k*s^2*T(s)*e^(I*m*ph) + m*s*e^(I*m*ph)*d(P)/ds - m*P(s)*e^(I*m*ph))*ω*e^(I*k*z) - 2*(Omega*k^2*s^2*e^(I*m*ph) + Omega*m^2*e^(I*m*ph))*P(s)*e^(I*k*z))*e^(I*t*ω)/s^2 e_ph - (k*s*e^(I*m*ph)*d(P)/ds + k*P(s)*e^(I*m*ph) - m*T(s)*e^(I*m*ph))*ω*e^(I*k*z + I*t*ω)/s e_z"
      ]
     },
     "execution_count": 12,
     "metadata": {},
     "output_type": "execute_result"
    }
   ],
   "source": [
    "NS_vec = dt_v + 2*Omega*e_z.cross(v)\n",
    "NS_vec.display()"
   ]
  },
  {
   "cell_type": "code",
   "execution_count": 13,
   "id": "36844906-d496-46c3-ba14-f8f03f9ccbb1",
   "metadata": {},
   "outputs": [
    {
     "data": {
      "text/html": [
       "<html>\\(\\displaystyle \\begin{array}{llcl} & \\mathbb{E}^{3} & \\longrightarrow & \\mathbb{R} \\\\ & \\left(s, {\\phi}, z\\right) & \\longmapsto & -\\frac{{\\left({\\left(2 i \\, k m P\\left(s\\right) e^{\\left(i \\, m {\\phi}\\right)} + {\\left(-i \\, k^{2} s^{2} e^{\\left(i \\, m {\\phi}\\right)} - i \\, m^{2} e^{\\left(i \\, m {\\phi}\\right)}\\right)} T\\left(s\\right)\\right)} ω e^{\\left(i \\, k z\\right)} + 2 \\, {\\left(i \\, \\Omega k^{3} s^{2} e^{\\left(i \\, m {\\phi}\\right)} + i \\, \\Omega k m^{2} e^{\\left(i \\, m {\\phi}\\right)}\\right)} P\\left(s\\right) e^{\\left(i \\, k z\\right)}\\right)} e^{\\left(i \\, t ω\\right)}}{s^{2}} \\end{array}\\)</html>"
      ],
      "text/latex": [
       "$\\displaystyle \\begin{array}{llcl} & \\mathbb{E}^{3} & \\longrightarrow & \\mathbb{R} \\\\ & \\left(s, {\\phi}, z\\right) & \\longmapsto & -\\frac{{\\left({\\left(2 i \\, k m P\\left(s\\right) e^{\\left(i \\, m {\\phi}\\right)} + {\\left(-i \\, k^{2} s^{2} e^{\\left(i \\, m {\\phi}\\right)} - i \\, m^{2} e^{\\left(i \\, m {\\phi}\\right)}\\right)} T\\left(s\\right)\\right)} ω e^{\\left(i \\, k z\\right)} + 2 \\, {\\left(i \\, \\Omega k^{3} s^{2} e^{\\left(i \\, m {\\phi}\\right)} + i \\, \\Omega k m^{2} e^{\\left(i \\, m {\\phi}\\right)}\\right)} P\\left(s\\right) e^{\\left(i \\, k z\\right)}\\right)} e^{\\left(i \\, t ω\\right)}}{s^{2}} \\end{array}$"
      ],
      "text/plain": [
       "E^3 → ℝ\n",
       "(s, ph, z) ↦ -((2*I*k*m*P(s)*e^(I*m*ph) + (-I*k^2*s^2*e^(I*m*ph) - I*m^2*e^(I*m*ph))*T(s))*ω*e^(I*k*z) + 2*(I*Omega*k^3*s^2*e^(I*m*ph) + I*Omega*k*m^2*e^(I*m*ph))*P(s)*e^(I*k*z))*e^(I*t*ω)/s^2"
      ]
     },
     "execution_count": 13,
     "metadata": {},
     "output_type": "execute_result"
    }
   ],
   "source": [
    "NS_1 = e_s.dot(curl(NS_vec))\n",
    "NS_1.display()"
   ]
  },
  {
   "cell_type": "code",
   "execution_count": 14,
   "id": "66eb0692-4372-4130-ad84-82fd7200c961",
   "metadata": {},
   "outputs": [
    {
     "data": {
      "text/html": [
       "<html>\\(\\displaystyle \\begin{array}{llcl} & \\mathbb{E}^{3} & \\longrightarrow & \\mathbb{R} \\\\ & \\left(s, {\\phi}, z\\right) & \\longmapsto & \\frac{{\\left({\\left(-2 i \\, k m s^{2} T\\left(s\\right) e^{\\left(i \\, m {\\phi}\\right)} + {\\left(i \\, k^{4} s^{4} e^{\\left(i \\, m {\\phi}\\right)} + {\\left(2 i \\, k^{2} m^{2} + i \\, k^{2}\\right)} s^{2} e^{\\left(i \\, m {\\phi}\\right)} + {\\left(i \\, m^{4} - i \\, m^{2}\\right)} e^{\\left(i \\, m {\\phi}\\right)}\\right)} P\\left(s\\right) + {\\left(-i \\, k^{2} s^{3} e^{\\left(i \\, m {\\phi}\\right)} + i \\, m^{2} s e^{\\left(i \\, m {\\phi}\\right)}\\right)} \\frac{\\partial\\,P}{\\partial s} + {\\left(-i \\, k^{2} s^{4} e^{\\left(i \\, m {\\phi}\\right)} - i \\, m^{2} s^{2} e^{\\left(i \\, m {\\phi}\\right)}\\right)} \\frac{\\partial^2\\,P}{\\partial s ^ 2}\\right)} ω e^{\\left(i \\, k z\\right)} + 2 \\, {\\left(2 i \\, \\Omega k^{2} m s^{2} P\\left(s\\right) e^{\\left(i \\, m {\\phi}\\right)} + {\\left(-i \\, \\Omega k^{3} s^{4} e^{\\left(i \\, m {\\phi}\\right)} - i \\, \\Omega k m^{2} s^{2} e^{\\left(i \\, m {\\phi}\\right)}\\right)} T\\left(s\\right)\\right)} e^{\\left(i \\, k z\\right)}\\right)} e^{\\left(i \\, t ω\\right)}}{s^{4}} \\end{array}\\)</html>"
      ],
      "text/latex": [
       "$\\displaystyle \\begin{array}{llcl} & \\mathbb{E}^{3} & \\longrightarrow & \\mathbb{R} \\\\ & \\left(s, {\\phi}, z\\right) & \\longmapsto & \\frac{{\\left({\\left(-2 i \\, k m s^{2} T\\left(s\\right) e^{\\left(i \\, m {\\phi}\\right)} + {\\left(i \\, k^{4} s^{4} e^{\\left(i \\, m {\\phi}\\right)} + {\\left(2 i \\, k^{2} m^{2} + i \\, k^{2}\\right)} s^{2} e^{\\left(i \\, m {\\phi}\\right)} + {\\left(i \\, m^{4} - i \\, m^{2}\\right)} e^{\\left(i \\, m {\\phi}\\right)}\\right)} P\\left(s\\right) + {\\left(-i \\, k^{2} s^{3} e^{\\left(i \\, m {\\phi}\\right)} + i \\, m^{2} s e^{\\left(i \\, m {\\phi}\\right)}\\right)} \\frac{\\partial\\,P}{\\partial s} + {\\left(-i \\, k^{2} s^{4} e^{\\left(i \\, m {\\phi}\\right)} - i \\, m^{2} s^{2} e^{\\left(i \\, m {\\phi}\\right)}\\right)} \\frac{\\partial^2\\,P}{\\partial s ^ 2}\\right)} ω e^{\\left(i \\, k z\\right)} + 2 \\, {\\left(2 i \\, \\Omega k^{2} m s^{2} P\\left(s\\right) e^{\\left(i \\, m {\\phi}\\right)} + {\\left(-i \\, \\Omega k^{3} s^{4} e^{\\left(i \\, m {\\phi}\\right)} - i \\, \\Omega k m^{2} s^{2} e^{\\left(i \\, m {\\phi}\\right)}\\right)} T\\left(s\\right)\\right)} e^{\\left(i \\, k z\\right)}\\right)} e^{\\left(i \\, t ω\\right)}}{s^{4}} \\end{array}$"
      ],
      "text/plain": [
       "E^3 → ℝ\n",
       "(s, ph, z) ↦ ((-2*I*k*m*s^2*T(s)*e^(I*m*ph) + (I*k^4*s^4*e^(I*m*ph) + (2*I*k^2*m^2 + I*k^2)*s^2*e^(I*m*ph) + (I*m^4 - I*m^2)*e^(I*m*ph))*P(s) + (-I*k^2*s^3*e^(I*m*ph) + I*m^2*s*e^(I*m*ph))*d(P)/ds + (-I*k^2*s^4*e^(I*m*ph) - I*m^2*s^2*e^(I*m*ph))*d^2(P)/ds^2)*ω*e^(I*k*z) + 2*(2*I*Omega*k^2*m*s^2*P(s)*e^(I*m*ph) + (-I*Omega*k^3*s^4*e^(I*m*ph) - I*Omega*k*m^2*s^2*e^(I*m*ph))*T(s))*e^(I*k*z))*e^(I*t*ω)/s^4"
      ]
     },
     "execution_count": 14,
     "metadata": {},
     "output_type": "execute_result"
    }
   ],
   "source": [
    "NS_2 = e_s.dot(curl(curl(NS_vec)))\n",
    "NS_2.display()"
   ]
  },
  {
   "cell_type": "markdown",
   "id": "7795f5c8-adfa-4675-ba18-a923ebadc669",
   "metadata": {
    "tags": []
   },
   "source": [
    "### Eigenvalue system"
   ]
  },
  {
   "cell_type": "code",
   "execution_count": 15,
   "id": "daf68e0b-2e3d-462c-81d6-8c58838f917c",
   "metadata": {},
   "outputs": [
    {
     "data": {
      "text/html": [
       "<html>\\(\\displaystyle {\\left(-2 i \\, k m P\\left(s\\right) + {\\left(i \\, k^{2} s^{2} + i \\, m^{2}\\right)} T\\left(s\\right)\\right)} ω + 2 \\, {\\left(-i \\, \\Omega k^{3} s^{2} - i \\, \\Omega k m^{2}\\right)} P\\left(s\\right) = 0\\)</html>"
      ],
      "text/latex": [
       "$\\displaystyle {\\left(-2 i \\, k m P\\left(s\\right) + {\\left(i \\, k^{2} s^{2} + i \\, m^{2}\\right)} T\\left(s\\right)\\right)} ω + 2 \\, {\\left(-i \\, \\Omega k^{3} s^{2} - i \\, \\Omega k m^{2}\\right)} P\\left(s\\right) = 0$"
      ],
      "text/plain": [
       "(-2*I*k*m*P(s) + (I*k^2*s^2 + I*m^2)*T(s))*ω + 2*(-I*Omega*k^3*s^2 - I*Omega*k*m^2)*P(s) == 0"
      ]
     },
     "metadata": {},
     "output_type": "display_data"
    }
   ],
   "source": [
    "NS_1_eq = (NS_1.expr() == 0)*exp(-I*k*z)*exp(-I*m*ph)*exp(-I*ω*t)*s**2\n",
    "NS_1_eq.full_simplify().show()"
   ]
  },
  {
   "cell_type": "code",
   "execution_count": 16,
   "id": "7fc7d839-f5f7-4791-a94b-e2adb4c666f5",
   "metadata": {},
   "outputs": [
    {
     "data": {
      "text/html": [
       "<html>\\(\\displaystyle \\frac{4 i \\, \\Omega k^{2} m s^{2} P\\left(s\\right) + {\\left(-2 i \\, k m s^{2} T\\left(s\\right) - {\\left(-i \\, k^{4} s^{4} - i \\, m^{4} + {\\left(-2 i \\, k^{2} m^{2} - i \\, k^{2}\\right)} s^{2} + i \\, m^{2}\\right)} P\\left(s\\right) - {\\left(i \\, k^{2} s^{3} - i \\, m^{2} s\\right)} \\frac{\\partial}{\\partial s}P\\left(s\\right) - {\\left(i \\, k^{2} s^{4} + i \\, m^{2} s^{2}\\right)} \\frac{\\partial^{2}}{(\\partial s)^{2}}P\\left(s\\right)\\right)} ω - 2 \\, {\\left(i \\, \\Omega k^{3} s^{4} + i \\, \\Omega k m^{2} s^{2}\\right)} T\\left(s\\right)}{s^{2}} = 0\\)</html>"
      ],
      "text/latex": [
       "$\\displaystyle \\frac{4 i \\, \\Omega k^{2} m s^{2} P\\left(s\\right) + {\\left(-2 i \\, k m s^{2} T\\left(s\\right) - {\\left(-i \\, k^{4} s^{4} - i \\, m^{4} + {\\left(-2 i \\, k^{2} m^{2} - i \\, k^{2}\\right)} s^{2} + i \\, m^{2}\\right)} P\\left(s\\right) - {\\left(i \\, k^{2} s^{3} - i \\, m^{2} s\\right)} \\frac{\\partial}{\\partial s}P\\left(s\\right) - {\\left(i \\, k^{2} s^{4} + i \\, m^{2} s^{2}\\right)} \\frac{\\partial^{2}}{(\\partial s)^{2}}P\\left(s\\right)\\right)} ω - 2 \\, {\\left(i \\, \\Omega k^{3} s^{4} + i \\, \\Omega k m^{2} s^{2}\\right)} T\\left(s\\right)}{s^{2}} = 0$"
      ],
      "text/plain": [
       "(4*I*Omega*k^2*m*s^2*P(s) + (-2*I*k*m*s^2*T(s) - (-I*k^4*s^4 - I*m^4 + (-2*I*k^2*m^2 - I*k^2)*s^2 + I*m^2)*P(s) - (I*k^2*s^3 - I*m^2*s)*diff(P(s), s) - (I*k^2*s^4 + I*m^2*s^2)*diff(P(s), s, s))*ω - 2*(I*Omega*k^3*s^4 + I*Omega*k*m^2*s^2)*T(s))/s^2 == 0"
      ]
     },
     "metadata": {},
     "output_type": "display_data"
    }
   ],
   "source": [
    "NS_2_eq = (NS_2.expr() == 0)*exp(-I*k*z)*exp(-I*m*ph)*exp(-I*ω*t)*s**2\n",
    "NS_2_eq.full_simplify().show()"
   ]
  },
  {
   "cell_type": "markdown",
   "id": "9f8186b3-2ab8-495c-8def-52da0e283145",
   "metadata": {},
   "source": [
    "\\begin{equation}\n",
    "A(s) \\begin{bmatrix}\n",
    "T(s) \\\\\n",
    "P(s) \\end{bmatrix} \n",
    "= \\omega B(s)\n",
    "\\begin{bmatrix}\n",
    "T(s) \\\\\n",
    "P(s) \\end{bmatrix}\n",
    "\\end{equation}\n",
    "\n",
    "\n",
    "\\begin{equation}\n",
    "\\begin{bmatrix}\n",
    "0 & -2(i \\Omega k^3 s^2 + i \\Omega k m^2) \\\\\n",
    "-2(i \\Omega k^{3} s^{2} + i \\Omega k m^{2}) & -4i \\Omega k^2 m \\\\\n",
    "\\end{bmatrix}\n",
    "\\begin{bmatrix}\n",
    "T(s) \\\\\n",
    "P(s) \\end{bmatrix}\n",
    "= \\omega \n",
    "\\begin{bmatrix}\n",
    "i(k^2 s^2 + m^2) & 2 i k m \\\\\n",
    "2 i k m &\n",
    "\\dfrac{-(-i k^4 s^4 - i m^4 + (-2 i k^2 m^2 - i k^2) s^2 + i m^2) - (i k^2 s^3 - i m^2 s) \\dfrac{\\partial}{\\partial s} - (i k^2 s^4 + i m^2 s^2) \\dfrac{\\partial ^2}{\\partial s^2}}{s^2}\n",
    "\\end{bmatrix}\n",
    "\\begin{bmatrix}\n",
    "T(s) \\\\\n",
    "P(s) \\end{bmatrix}\n",
    "\\end{equation}\n"
   ]
  },
  {
   "cell_type": "markdown",
   "id": "30d1d348-2caa-46ae-ac59-49fbcbb5f5f8",
   "metadata": {
    "jp-MarkdownHeadingCollapsed": true,
    "tags": []
   },
   "source": [
    "## 3. Greenspan's solution : $B_0 = 0$"
   ]
  },
  {
   "cell_type": "markdown",
   "id": "1aed1661-18f3-4253-8a84-c46b8390a49f",
   "metadata": {},
   "source": [
    "We need to find the solutions $\\xi$ of the equation:\n",
    "\\begin{equation}\n",
    "    \\xi\\frac{d}{d\\xi}J_{\\lvert m \\rvert}(\\xi) + m\\left( 1 + \\frac{\\xi^2 h^2}{n_{ax}^2\\pi^2 a^2}\\right)^{1/2} J_{\\lvert m \\rvert}(\\xi) = 0\n",
    "\\end{equation}\n",
    "With the corresponding eigenvalues : \n",
    "\\begin{equation}\n",
    "    \\lambda_{knm} = 2 \\left( 1 + \\frac{\\xi^2_{knm}h^2}{n_{ax}^2\\pi^2 a^2}\\right)^{-1/2}\n",
    "\\end{equation}"
   ]
  },
  {
   "cell_type": "markdown",
   "id": "86b60049-f27c-481f-bb4d-f3d8f2a5809a",
   "metadata": {
    "jp-MarkdownHeadingCollapsed": true,
    "tags": []
   },
   "source": [
    "## 4. Magnetohydrodynamic"
   ]
  },
  {
   "cell_type": "markdown",
   "id": "6d3f5214-60e2-432a-8004-63a39986f3a7",
   "metadata": {
    "tags": []
   },
   "source": [
    "### Magnetic field"
   ]
  },
  {
   "cell_type": "code",
   "execution_count": 19,
   "id": "4f578c20-47c7-4e73-8cad-3bd43458b3b7",
   "metadata": {},
   "outputs": [
    {
     "data": {
      "text/html": [
       "<html>\\(\\displaystyle \\mathrm{curl}\\left( G \\cdot e_{ s } \\right) + \\mathrm{curl}\\left( \\mathrm{curl}\\left( F \\cdot e_{ s } \\right) \\right) = \\frac{{\\left(k^{2} s^{2} e^{\\left(i \\, m {\\phi}\\right)} + m^{2} e^{\\left(i \\, m {\\phi}\\right)}\\right)} F\\left(s\\right) e^{\\left(i \\, k z + i \\, t ω\\right)}}{s^{2}} e_{ s } + \\frac{{\\left(i \\, k s^{2} G\\left(s\\right) e^{\\left(i \\, m {\\phi}\\right)} + i \\, m s e^{\\left(i \\, m {\\phi}\\right)} \\frac{\\partial\\,F}{\\partial s} - i \\, m F\\left(s\\right) e^{\\left(i \\, m {\\phi}\\right)}\\right)} e^{\\left(i \\, k z + i \\, t ω\\right)}}{s^{2}} e_{ {\\phi} } + \\frac{{\\left(i \\, k s e^{\\left(i \\, m {\\phi}\\right)} \\frac{\\partial\\,F}{\\partial s} + i \\, k F\\left(s\\right) e^{\\left(i \\, m {\\phi}\\right)} - i \\, m G\\left(s\\right) e^{\\left(i \\, m {\\phi}\\right)}\\right)} e^{\\left(i \\, k z + i \\, t ω\\right)}}{s} e_{ z }\\)</html>"
      ],
      "text/latex": [
       "$\\displaystyle \\mathrm{curl}\\left( G \\cdot e_{ s } \\right) + \\mathrm{curl}\\left( \\mathrm{curl}\\left( F \\cdot e_{ s } \\right) \\right) = \\frac{{\\left(k^{2} s^{2} e^{\\left(i \\, m {\\phi}\\right)} + m^{2} e^{\\left(i \\, m {\\phi}\\right)}\\right)} F\\left(s\\right) e^{\\left(i \\, k z + i \\, t ω\\right)}}{s^{2}} e_{ s } + \\frac{{\\left(i \\, k s^{2} G\\left(s\\right) e^{\\left(i \\, m {\\phi}\\right)} + i \\, m s e^{\\left(i \\, m {\\phi}\\right)} \\frac{\\partial\\,F}{\\partial s} - i \\, m F\\left(s\\right) e^{\\left(i \\, m {\\phi}\\right)}\\right)} e^{\\left(i \\, k z + i \\, t ω\\right)}}{s^{2}} e_{ {\\phi} } + \\frac{{\\left(i \\, k s e^{\\left(i \\, m {\\phi}\\right)} \\frac{\\partial\\,F}{\\partial s} + i \\, k F\\left(s\\right) e^{\\left(i \\, m {\\phi}\\right)} - i \\, m G\\left(s\\right) e^{\\left(i \\, m {\\phi}\\right)}\\right)} e^{\\left(i \\, k z + i \\, t ω\\right)}}{s} e_{ z }$"
      ],
      "text/plain": [
       "curl(G*e_s)+curl(curl(F*e_s)) = (k^2*s^2*e^(I*m*ph) + m^2*e^(I*m*ph))*F(s)*e^(I*k*z + I*t*ω)/s^2 e_s + (I*k*s^2*G(s)*e^(I*m*ph) + I*m*s*e^(I*m*ph)*d(F)/ds - I*m*F(s)*e^(I*m*ph))*e^(I*k*z + I*t*ω)/s^2 e_ph + (I*k*s*e^(I*m*ph)*d(F)/ds + I*k*F(s)*e^(I*m*ph) - I*m*G(s)*e^(I*m*ph))*e^(I*k*z + I*t*ω)/s e_z"
      ]
     },
     "execution_count": 19,
     "metadata": {},
     "output_type": "execute_result"
    }
   ],
   "source": [
    "b = curl(G*e_s) + curl(curl(F*e_s))\n",
    "b.display()"
   ]
  },
  {
   "cell_type": "code",
   "execution_count": 20,
   "id": "0e8a7bd5-e9da-471d-b0ea-134bd1b59c2e",
   "metadata": {},
   "outputs": [
    {
     "data": {
      "text/html": [
       "<html>\\(\\displaystyle \\begin{array}{llcl} { e_{ s } }\\cdot{ \\mathrm{curl}\\left( G \\cdot e_{ s } \\right) + \\mathrm{curl}\\left( \\mathrm{curl}\\left( F \\cdot e_{ s } \\right) \\right) } : & \\mathbb{E}^{3} & \\longrightarrow & \\mathbb{R} \\\\ & \\left(s, {\\phi}, z\\right) & \\longmapsto & \\frac{{\\left(k^{2} s^{2} e^{\\left(i \\, m {\\phi}\\right)} + m^{2} e^{\\left(i \\, m {\\phi}\\right)}\\right)} F\\left(s\\right) e^{\\left(i \\, k z + i \\, t ω\\right)}}{s^{2}} \\end{array}\\)</html>"
      ],
      "text/latex": [
       "$\\displaystyle \\begin{array}{llcl} { e_{ s } }\\cdot{ \\mathrm{curl}\\left( G \\cdot e_{ s } \\right) + \\mathrm{curl}\\left( \\mathrm{curl}\\left( F \\cdot e_{ s } \\right) \\right) } : & \\mathbb{E}^{3} & \\longrightarrow & \\mathbb{R} \\\\ & \\left(s, {\\phi}, z\\right) & \\longmapsto & \\frac{{\\left(k^{2} s^{2} e^{\\left(i \\, m {\\phi}\\right)} + m^{2} e^{\\left(i \\, m {\\phi}\\right)}\\right)} F\\left(s\\right) e^{\\left(i \\, k z + i \\, t ω\\right)}}{s^{2}} \\end{array}$"
      ],
      "text/plain": [
       "e_s.curl(G*e_s)+curl(curl(F*e_s)): E^3 → ℝ\n",
       "   (s, ph, z) ↦ (k^2*s^2*e^(I*m*ph) + m^2*e^(I*m*ph))*F(s)*e^(I*k*z + I*t*ω)/s^2"
      ]
     },
     "execution_count": 20,
     "metadata": {},
     "output_type": "execute_result"
    }
   ],
   "source": [
    "b_s = e_s.dot(b)\n",
    "b_s.display()"
   ]
  },
  {
   "cell_type": "code",
   "execution_count": 20,
   "id": "8c2a4baf-e120-432a-840f-dee2ee3d9d1b",
   "metadata": {},
   "outputs": [],
   "source": [
    "dt_b = I*ω*b"
   ]
  },
  {
   "cell_type": "code",
   "execution_count": 21,
   "id": "9818639d-a9a2-4916-810e-423490a62ae0",
   "metadata": {},
   "outputs": [
    {
     "data": {
      "text/html": [
       "<html>\\(\\displaystyle \\begin{array}{llcl} & \\mathbb{E}^{3} & \\longrightarrow & \\mathbb{R} \\\\ & \\left(s, {\\phi}, z\\right) & \\longmapsto & \\frac{{\\left(i \\, k^{2} s^{2} e^{\\left(i \\, m {\\phi}\\right)} + i \\, m^{2} e^{\\left(i \\, m {\\phi}\\right)}\\right)} ω F\\left(s\\right) e^{\\left(i \\, k z + i \\, t ω\\right)}}{s^{2}} \\end{array}\\)</html>"
      ],
      "text/latex": [
       "$\\displaystyle \\begin{array}{llcl} & \\mathbb{E}^{3} & \\longrightarrow & \\mathbb{R} \\\\ & \\left(s, {\\phi}, z\\right) & \\longmapsto & \\frac{{\\left(i \\, k^{2} s^{2} e^{\\left(i \\, m {\\phi}\\right)} + i \\, m^{2} e^{\\left(i \\, m {\\phi}\\right)}\\right)} ω F\\left(s\\right) e^{\\left(i \\, k z + i \\, t ω\\right)}}{s^{2}} \\end{array}$"
      ],
      "text/plain": [
       "E^3 → ℝ\n",
       "(s, ph, z) ↦ (I*k^2*s^2*e^(I*m*ph) + I*m^2*e^(I*m*ph))*ω*F(s)*e^(I*k*z + I*t*ω)/s^2"
      ]
     },
     "execution_count": 21,
     "metadata": {},
     "output_type": "execute_result"
    }
   ],
   "source": [
    "dt_b_s = e_s.dot(dt_b)\n",
    "dt_b_s.display()"
   ]
  },
  {
   "cell_type": "markdown",
   "id": "fade4a83-e8f1-411d-83fe-58be4df639d2",
   "metadata": {
    "tags": []
   },
   "source": [
    "### Equations of motion"
   ]
  },
  {
   "cell_type": "markdown",
   "id": "1473c065-3ee9-437f-9066-06e2f9714b6c",
   "metadata": {},
   "source": [
    "#### Magnetic tension"
   ]
  },
  {
   "cell_type": "markdown",
   "id": "7adbb0e1-03df-4d57-91c0-7271575f92c0",
   "metadata": {},
   "source": [
    "We need to calculate $\\nabla \\times (ikB_0 \\vec{b})\\lvert_s$ and $\\nabla \\times (\\nabla \\times ikB_0 \\vec{b})\\lvert_s$ to add to the N-S equations."
   ]
  },
  {
   "cell_type": "code",
   "execution_count": 34,
   "id": "83658e4c-63f9-4a36-a30b-6a638ef6e7af",
   "metadata": {},
   "outputs": [],
   "source": [
    "MHD_1 = NS_1 - (1/mu*rho)*e_s.dot(curl(I*k*B0*b))"
   ]
  },
  {
   "cell_type": "code",
   "execution_count": 37,
   "id": "7239cb85-bd2a-40d0-a77a-95e14242b773",
   "metadata": {},
   "outputs": [
    {
     "data": {
      "text/html": [
       "<html>\\(\\displaystyle \\frac{2 i \\, B_{0} k^{2} m \\rho F\\left(s\\right) + {\\left(-2 i \\, k m \\mu P\\left(s\\right) + {\\left(i \\, k^{2} \\mu s^{2} + i \\, m^{2} \\mu\\right)} T\\left(s\\right)\\right)} ω + {\\left(-i \\, B_{0} k^{3} \\rho s^{2} - i \\, B_{0} k m^{2} \\rho\\right)} G\\left(s\\right) + 2 \\, {\\left(-i \\, \\Omega k^{3} \\mu s^{2} - i \\, \\Omega k m^{2} \\mu\\right)} P\\left(s\\right)}{\\mu} = 0\\)</html>"
      ],
      "text/latex": [
       "$\\displaystyle \\frac{2 i \\, B_{0} k^{2} m \\rho F\\left(s\\right) + {\\left(-2 i \\, k m \\mu P\\left(s\\right) + {\\left(i \\, k^{2} \\mu s^{2} + i \\, m^{2} \\mu\\right)} T\\left(s\\right)\\right)} ω + {\\left(-i \\, B_{0} k^{3} \\rho s^{2} - i \\, B_{0} k m^{2} \\rho\\right)} G\\left(s\\right) + 2 \\, {\\left(-i \\, \\Omega k^{3} \\mu s^{2} - i \\, \\Omega k m^{2} \\mu\\right)} P\\left(s\\right)}{\\mu} = 0$"
      ],
      "text/plain": [
       "(2*I*B0*k^2*m*rho*F(s) + (-2*I*k*m*mu*P(s) + (I*k^2*mu*s^2 + I*m^2*mu)*T(s))*ω + (-I*B0*k^3*rho*s^2 - I*B0*k*m^2*rho)*G(s) + 2*(-I*Omega*k^3*mu*s^2 - I*Omega*k*m^2*mu)*P(s))/mu == 0"
      ]
     },
     "metadata": {},
     "output_type": "display_data"
    }
   ],
   "source": [
    "MHD_1_eq = (MHD_1.expr() == 0)*exp(-I*k*z)*exp(-I*m*ph)*exp(-I*ω*t)*s**2\n",
    "MHD_1_eq.full_simplify().show()"
   ]
  },
  {
   "cell_type": "code",
   "execution_count": 35,
   "id": "754b8609-318e-48c8-8f34-90886cf92685",
   "metadata": {},
   "outputs": [],
   "source": [
    "MHD_2 = NS_2 - (1/mu*rho)*e_s.dot(curl(curl(I*k*B0*b)))"
   ]
  },
  {
   "cell_type": "code",
   "execution_count": 38,
   "id": "ae7f530d-80d8-4c33-adf3-6ea9e67e4b53",
   "metadata": {},
   "outputs": [
    {
     "data": {
      "text/html": [
       "<html>\\(\\displaystyle \\frac{2 i \\, B_{0} k^{2} m \\rho s^{2} G\\left(s\\right) + 4 i \\, \\Omega k^{2} m \\mu s^{2} P\\left(s\\right) + {\\left(-2 i \\, k m \\mu s^{2} T\\left(s\\right) - {\\left(-i \\, k^{4} \\mu s^{4} + {\\left(-2 i \\, k^{2} m^{2} - i \\, k^{2}\\right)} \\mu s^{2} + {\\left(-i \\, m^{4} + i \\, m^{2}\\right)} \\mu\\right)} P\\left(s\\right) - {\\left(i \\, k^{2} \\mu s^{3} - i \\, m^{2} \\mu s\\right)} \\frac{\\partial}{\\partial s}P\\left(s\\right) - {\\left(i \\, k^{2} \\mu s^{4} + i \\, m^{2} \\mu s^{2}\\right)} \\frac{\\partial^{2}}{(\\partial s)^{2}}P\\left(s\\right)\\right)} ω - {\\left(i \\, B_{0} k^{5} \\rho s^{4} + {\\left(2 i \\, B_{0} k^{3} m^{2} + i \\, B_{0} k^{3}\\right)} \\rho s^{2} + {\\left(i \\, B_{0} k m^{4} - i \\, B_{0} k m^{2}\\right)} \\rho\\right)} F\\left(s\\right) - 2 \\, {\\left(i \\, \\Omega k^{3} \\mu s^{4} + i \\, \\Omega k m^{2} \\mu s^{2}\\right)} T\\left(s\\right) - {\\left(-i \\, B_{0} k^{3} \\rho s^{3} + i \\, B_{0} k m^{2} \\rho s\\right)} \\frac{\\partial}{\\partial s}F\\left(s\\right) - {\\left(-i \\, B_{0} k^{3} \\rho s^{4} - i \\, B_{0} k m^{2} \\rho s^{2}\\right)} \\frac{\\partial^{2}}{(\\partial s)^{2}}F\\left(s\\right)}{\\mu s^{2}} = 0\\)</html>"
      ],
      "text/latex": [
       "$\\displaystyle \\frac{2 i \\, B_{0} k^{2} m \\rho s^{2} G\\left(s\\right) + 4 i \\, \\Omega k^{2} m \\mu s^{2} P\\left(s\\right) + {\\left(-2 i \\, k m \\mu s^{2} T\\left(s\\right) - {\\left(-i \\, k^{4} \\mu s^{4} + {\\left(-2 i \\, k^{2} m^{2} - i \\, k^{2}\\right)} \\mu s^{2} + {\\left(-i \\, m^{4} + i \\, m^{2}\\right)} \\mu\\right)} P\\left(s\\right) - {\\left(i \\, k^{2} \\mu s^{3} - i \\, m^{2} \\mu s\\right)} \\frac{\\partial}{\\partial s}P\\left(s\\right) - {\\left(i \\, k^{2} \\mu s^{4} + i \\, m^{2} \\mu s^{2}\\right)} \\frac{\\partial^{2}}{(\\partial s)^{2}}P\\left(s\\right)\\right)} ω - {\\left(i \\, B_{0} k^{5} \\rho s^{4} + {\\left(2 i \\, B_{0} k^{3} m^{2} + i \\, B_{0} k^{3}\\right)} \\rho s^{2} + {\\left(i \\, B_{0} k m^{4} - i \\, B_{0} k m^{2}\\right)} \\rho\\right)} F\\left(s\\right) - 2 \\, {\\left(i \\, \\Omega k^{3} \\mu s^{4} + i \\, \\Omega k m^{2} \\mu s^{2}\\right)} T\\left(s\\right) - {\\left(-i \\, B_{0} k^{3} \\rho s^{3} + i \\, B_{0} k m^{2} \\rho s\\right)} \\frac{\\partial}{\\partial s}F\\left(s\\right) - {\\left(-i \\, B_{0} k^{3} \\rho s^{4} - i \\, B_{0} k m^{2} \\rho s^{2}\\right)} \\frac{\\partial^{2}}{(\\partial s)^{2}}F\\left(s\\right)}{\\mu s^{2}} = 0$"
      ],
      "text/plain": [
       "(2*I*B0*k^2*m*rho*s^2*G(s) + 4*I*Omega*k^2*m*mu*s^2*P(s) + (-2*I*k*m*mu*s^2*T(s) - (-I*k^4*mu*s^4 + (-2*I*k^2*m^2 - I*k^2)*mu*s^2 + (-I*m^4 + I*m^2)*mu)*P(s) - (I*k^2*mu*s^3 - I*m^2*mu*s)*diff(P(s), s) - (I*k^2*mu*s^4 + I*m^2*mu*s^2)*diff(P(s), s, s))*ω - (I*B0*k^5*rho*s^4 + (2*I*B0*k^3*m^2 + I*B0*k^3)*rho*s^2 + (I*B0*k*m^4 - I*B0*k*m^2)*rho)*F(s) - 2*(I*Omega*k^3*mu*s^4 + I*Omega*k*m^2*mu*s^2)*T(s) - (-I*B0*k^3*rho*s^3 + I*B0*k*m^2*rho*s)*diff(F(s), s) - (-I*B0*k^3*rho*s^4 - I*B0*k*m^2*rho*s^2)*diff(F(s), s, s))/(mu*s^2) == 0"
      ]
     },
     "metadata": {},
     "output_type": "display_data"
    }
   ],
   "source": [
    "MHD_2_eq = (MHD_2.expr() == 0)*exp(-I*k*z)*exp(-I*m*ph)*exp(-I*ω*t)*s**2\n",
    "MHD_2_eq.full_simplify().show()"
   ]
  },
  {
   "cell_type": "markdown",
   "id": "6322078f-bc3d-4f02-b2f7-f162cc742bbe",
   "metadata": {
    "tags": []
   },
   "source": [
    "### Ideal induction"
   ]
  },
  {
   "cell_type": "markdown",
   "id": "a152cce5-a399-4321-9339-e76f024649e2",
   "metadata": {},
   "source": [
    "\\begin{equation}\n",
    "    \\frac{\\partial}{\\partial t}\\vec{b}  = \\left( \\vec{B}_0 \\cdot \\nabla\\right)\\vec{v}\n",
    "\\end{equation}"
   ]
  },
  {
   "cell_type": "code",
   "execution_count": 23,
   "id": "026d8001-69dc-4903-b338-259eca86247f",
   "metadata": {},
   "outputs": [
    {
     "data": {
      "text/html": [
       "<html>\\(\\displaystyle \\begin{array}{llcl} & \\mathbb{E}^{3} & \\longrightarrow & \\mathbb{R} \\\\ & \\left(s, {\\phi}, z\\right) & \\longmapsto & \\frac{{\\left({\\left(i \\, k^{2} s^{2} e^{\\left(i \\, m {\\phi}\\right)} + i \\, m^{2} e^{\\left(i \\, m {\\phi}\\right)}\\right)} ω F\\left(s\\right) e^{\\left(i \\, k z\\right)} + {\\left(-i \\, B_{0} k^{3} s^{2} e^{\\left(i \\, m {\\phi}\\right)} - i \\, B_{0} k m^{2} e^{\\left(i \\, m {\\phi}\\right)}\\right)} P\\left(s\\right) e^{\\left(i \\, k z\\right)}\\right)} e^{\\left(i \\, t ω\\right)}}{s^{2}} \\end{array}\\)</html>"
      ],
      "text/latex": [
       "$\\displaystyle \\begin{array}{llcl} & \\mathbb{E}^{3} & \\longrightarrow & \\mathbb{R} \\\\ & \\left(s, {\\phi}, z\\right) & \\longmapsto & \\frac{{\\left({\\left(i \\, k^{2} s^{2} e^{\\left(i \\, m {\\phi}\\right)} + i \\, m^{2} e^{\\left(i \\, m {\\phi}\\right)}\\right)} ω F\\left(s\\right) e^{\\left(i \\, k z\\right)} + {\\left(-i \\, B_{0} k^{3} s^{2} e^{\\left(i \\, m {\\phi}\\right)} - i \\, B_{0} k m^{2} e^{\\left(i \\, m {\\phi}\\right)}\\right)} P\\left(s\\right) e^{\\left(i \\, k z\\right)}\\right)} e^{\\left(i \\, t ω\\right)}}{s^{2}} \\end{array}$"
      ],
      "text/plain": [
       "E^3 → ℝ\n",
       "(s, ph, z) ↦ ((I*k^2*s^2*e^(I*m*ph) + I*m^2*e^(I*m*ph))*ω*F(s)*e^(I*k*z) + (-I*B0*k^3*s^2*e^(I*m*ph) - I*B0*k*m^2*e^(I*m*ph))*P(s)*e^(I*k*z))*e^(I*t*ω)/s^2"
      ]
     },
     "execution_count": 23,
     "metadata": {},
     "output_type": "execute_result"
    }
   ],
   "source": [
    "Ind_1 = e_s.dot(dt_b - B0*I*k*v)\n",
    "Ind_1.display()"
   ]
  },
  {
   "cell_type": "code",
   "execution_count": 29,
   "id": "d6c4b8a2-6e2f-409a-951d-4e20f56a1b9d",
   "metadata": {},
   "outputs": [
    {
     "data": {
      "text/html": [
       "<html>\\(\\displaystyle {\\left(i \\, k^{2} s^{2} + i \\, m^{2}\\right)} ω F\\left(s\\right) + {\\left(-i \\, B_{0} k^{3} s^{2} - i \\, B_{0} k m^{2}\\right)} P\\left(s\\right) = 0\\)</html>"
      ],
      "text/latex": [
       "$\\displaystyle {\\left(i \\, k^{2} s^{2} + i \\, m^{2}\\right)} ω F\\left(s\\right) + {\\left(-i \\, B_{0} k^{3} s^{2} - i \\, B_{0} k m^{2}\\right)} P\\left(s\\right) = 0$"
      ],
      "text/plain": [
       "(I*k^2*s^2 + I*m^2)*ω*F(s) + (-I*B0*k^3*s^2 - I*B0*k*m^2)*P(s) == 0"
      ]
     },
     "metadata": {},
     "output_type": "display_data"
    }
   ],
   "source": [
    "Ind_1_eq = (Ind_1.expr() == 0)*exp(-I*k*z)*exp(-I*m*ph)*exp(-I*ω*t)*s**2\n",
    "Ind_1_eq.full_simplify().show()"
   ]
  },
  {
   "cell_type": "code",
   "execution_count": 24,
   "id": "012365a8-468f-482c-b8cb-9c0e391bc7ce",
   "metadata": {},
   "outputs": [
    {
     "data": {
      "text/html": [
       "<html>\\(\\displaystyle \\begin{array}{llcl} & \\mathbb{E}^{3} & \\longrightarrow & \\mathbb{R} \\\\ & \\left(s, {\\phi}, z\\right) & \\longmapsto & -\\frac{{\\left({\\left(2 i \\, k m F\\left(s\\right) e^{\\left(i \\, m {\\phi}\\right)} + {\\left(-i \\, k^{2} s^{2} e^{\\left(i \\, m {\\phi}\\right)} - i \\, m^{2} e^{\\left(i \\, m {\\phi}\\right)}\\right)} G\\left(s\\right)\\right)} ω e^{\\left(i \\, k z\\right)} + {\\left(-2 i \\, B_{0} k^{2} m P\\left(s\\right) e^{\\left(i \\, m {\\phi}\\right)} + {\\left(i \\, B_{0} k^{3} s^{2} e^{\\left(i \\, m {\\phi}\\right)} + i \\, B_{0} k m^{2} e^{\\left(i \\, m {\\phi}\\right)}\\right)} T\\left(s\\right)\\right)} e^{\\left(i \\, k z\\right)}\\right)} e^{\\left(i \\, t ω\\right)}}{s^{2}} \\end{array}\\)</html>"
      ],
      "text/latex": [
       "$\\displaystyle \\begin{array}{llcl} & \\mathbb{E}^{3} & \\longrightarrow & \\mathbb{R} \\\\ & \\left(s, {\\phi}, z\\right) & \\longmapsto & -\\frac{{\\left({\\left(2 i \\, k m F\\left(s\\right) e^{\\left(i \\, m {\\phi}\\right)} + {\\left(-i \\, k^{2} s^{2} e^{\\left(i \\, m {\\phi}\\right)} - i \\, m^{2} e^{\\left(i \\, m {\\phi}\\right)}\\right)} G\\left(s\\right)\\right)} ω e^{\\left(i \\, k z\\right)} + {\\left(-2 i \\, B_{0} k^{2} m P\\left(s\\right) e^{\\left(i \\, m {\\phi}\\right)} + {\\left(i \\, B_{0} k^{3} s^{2} e^{\\left(i \\, m {\\phi}\\right)} + i \\, B_{0} k m^{2} e^{\\left(i \\, m {\\phi}\\right)}\\right)} T\\left(s\\right)\\right)} e^{\\left(i \\, k z\\right)}\\right)} e^{\\left(i \\, t ω\\right)}}{s^{2}} \\end{array}$"
      ],
      "text/plain": [
       "E^3 → ℝ\n",
       "(s, ph, z) ↦ -((2*I*k*m*F(s)*e^(I*m*ph) + (-I*k^2*s^2*e^(I*m*ph) - I*m^2*e^(I*m*ph))*G(s))*ω*e^(I*k*z) + (-2*I*B0*k^2*m*P(s)*e^(I*m*ph) + (I*B0*k^3*s^2*e^(I*m*ph) + I*B0*k*m^2*e^(I*m*ph))*T(s))*e^(I*k*z))*e^(I*t*ω)/s^2"
      ]
     },
     "execution_count": 24,
     "metadata": {},
     "output_type": "execute_result"
    }
   ],
   "source": [
    "Ind_2 = e_s.dot(curl(dt_b - B0*I*k*v))\n",
    "Ind_2.display()"
   ]
  },
  {
   "cell_type": "code",
   "execution_count": 31,
   "id": "7f6e40f5-a75e-4277-bc85-c1e2ae26a900",
   "metadata": {},
   "outputs": [
    {
     "data": {
      "text/html": [
       "<html>\\(\\displaystyle 2 i \\, B_{0} k^{2} m P\\left(s\\right) + {\\left(-2 i \\, k m F\\left(s\\right) + {\\left(i \\, k^{2} s^{2} + i \\, m^{2}\\right)} G\\left(s\\right)\\right)} ω + {\\left(-i \\, B_{0} k^{3} s^{2} - i \\, B_{0} k m^{2}\\right)} T\\left(s\\right) = 0\\)</html>"
      ],
      "text/latex": [
       "$\\displaystyle 2 i \\, B_{0} k^{2} m P\\left(s\\right) + {\\left(-2 i \\, k m F\\left(s\\right) + {\\left(i \\, k^{2} s^{2} + i \\, m^{2}\\right)} G\\left(s\\right)\\right)} ω + {\\left(-i \\, B_{0} k^{3} s^{2} - i \\, B_{0} k m^{2}\\right)} T\\left(s\\right) = 0$"
      ],
      "text/plain": [
       "2*I*B0*k^2*m*P(s) + (-2*I*k*m*F(s) + (I*k^2*s^2 + I*m^2)*G(s))*ω + (-I*B0*k^3*s^2 - I*B0*k*m^2)*T(s) == 0"
      ]
     },
     "metadata": {},
     "output_type": "display_data"
    }
   ],
   "source": [
    "Ind_2_eq = (Ind_2.expr() == 0)*exp(-I*k*z)*exp(-I*m*ph)*exp(-I*ω*t)*s**2\n",
    "Ind_2_eq.full_simplify().show()"
   ]
  },
  {
   "cell_type": "markdown",
   "id": "636a0c36-d469-4240-9330-1b5e96d12553",
   "metadata": {},
   "source": [
    "### Eigenvalue system"
   ]
  },
  {
   "cell_type": "markdown",
   "id": "efc83c60-1a02-4db8-aa03-038738beee9d",
   "metadata": {},
   "source": [
    "\\begin{equation}\n",
    "\\mathcal{A(s)} \\begin{bmatrix}\n",
    "T(s) \\\\\n",
    "P(s) \\\\\n",
    "G(s) \\\\\n",
    "F(s)\n",
    "\\end{bmatrix} \n",
    "= \\omega \\mathcal{B(s)}\n",
    "\\begin{bmatrix}\n",
    "T(s) \\\\\n",
    "P(s) \\\\\n",
    "G(s) \\\\\n",
    "F(s)\n",
    "\\end{bmatrix}\n",
    "\\end{equation}\n",
    "\n",
    "\n",
    "\\begin{equation}\n",
    "\\begin{bmatrix}\n",
    "0 & -2 i \\Omega k (k^2 s^2 + m^2) & - i B_0 \\rho k (k^2 s^2 + m^2) & + 2 i B_0 k^2 m \\rho \\\\\n",
    "0 & 4 i \\Omega k^2 m & \\frac{1}{\\mu s^2} 2 i B_0 k^2 m \\rho s^2 & \\frac{-1}{\\mu s^2} \\left(i B_0 k^5 \\rho s^4 + (2 i B_0 k^3 m^2 + i B_0 k^3) \\rho s^2 + (i B_0 k m^4 - i B_0 k m^2) \\rho\\right) + \\frac{-1}{\\mu s^2} \\left(-i B_0 k^3 \\rho s^3 + i B_0 k m^2 \\rho s\\right) \\frac{d}{ds} + \\frac{-1}{\\mu s^2} \\left(-i B_0 k^3 \\rho s^4 - i B_0 k m^2 \\rho s^2\\right) \\frac{d^2}{ds^2} \\\\\n",
    "0 & -i B_0 k (k^2 s^2 + m^2) & 0 & 0 \\\\\n",
    "-i B_0 k (k^2 s^2 + m^2) & 2 i B_0 k^2 m & 0 & 0\n",
    "\\end{bmatrix}\n",
    "\\begin{bmatrix}\n",
    "T(s) \\\\\n",
    "P(s) \\\\\n",
    "G(s) \\\\\n",
    "F(s)\n",
    "\\end{bmatrix}\n",
    "= \\omega \n",
    "\\begin{bmatrix}\n",
    "i (k^2 s^2 + m^2) & -2 i k m & 0 & 0\\\\\n",
    "-2 i k m & i \\left(k^4 s^2 + (2k^2 m^2 + k^2) + m^4 - m^2\\right) -(i k^2 s + i m^2 1/s) \\frac{d}{ds} - (i k^2 s^2 + i m^2) \\frac{d^2}{ds^2} & 0 & 0 \\\\\n",
    "0 & 0 & 0 & i (k^2 s^2 + m^2) \\\\\n",
    "0 & 0 & i (k^2 s^2 + m^2) & -2 i k m\n",
    "\\end{bmatrix}\n",
    "\\begin{bmatrix}\n",
    "T(s) \\\\\n",
    "P(s) \\\\\n",
    "G(s) \\\\\n",
    "F(s)\n",
    "\\end{bmatrix}\n",
    "\\end{equation}"
   ]
  },
  {
   "cell_type": "markdown",
   "id": "28831a39-a9a1-44bf-8219-547123ffed2d",
   "metadata": {
    "tags": []
   },
   "source": [
    "### Boundary conditions :"
   ]
  },
  {
   "cell_type": "markdown",
   "id": "81a6cf38-8eca-416d-aa96-37ab69188ac1",
   "metadata": {},
   "source": [
    "A magnetic flux tube is surrounded by an external magnetic field $\\mathbf{B}_{ext}$, which can be assumed to be derived from a potential of the same form as toroidal-poloidal fields. That is, we have \n",
    "\\begin{equation}\n",
    "    \\mathbf{B}_{ext} = - \\nabla \\Phi \\,\\ \\text{where} \\,\\ \\Phi = \\tilde{\\Phi}(s) e^{i(m\\varphi + kz + \\omega t)}\n",
    "\\end{equation}\n",
    "Where $\\tilde{\\Phi}$ is again the Fourier amplitude. Since $\\nabla \\cdot \\mathbf{B} = 0$, we can solve\n",
    "\\begin{equation}\n",
    "    \\nabla^2 \\Phi = 0\n",
    "\\end{equation}\n",
    "such that \n",
    "\\begin{equation}\n",
    "    \\Phi = C_1 Y_m (-iks) e^{i(m \\varphi + kz + \\omega t)}\n",
    "\\end{equation}"
   ]
  },
  {
   "cell_type": "code",
   "execution_count": 24,
   "id": "dc0ddc8e-4688-4bec-9a86-00926e915f4e",
   "metadata": {},
   "outputs": [
    {
     "data": {
      "text/html": [
       "<html>\\(\\displaystyle {\\left(k^{2} s^{2} + m^{2}\\right)} F\\left(s\\right)\\)</html>"
      ],
      "text/latex": [
       "$\\displaystyle {\\left(k^{2} s^{2} + m^{2}\\right)} F\\left(s\\right)$"
      ],
      "text/plain": [
       "(k^2*s^2 + m^2)*F(s)"
      ]
     },
     "metadata": {},
     "output_type": "display_data"
    }
   ],
   "source": [
    "bs = e_s.dot(b)*exp(-I*k*z)*exp(-I*m*ph)*exp(-I*ω*t)*s**2\n",
    "bs.expr().full_simplify().show()"
   ]
  },
  {
   "cell_type": "code",
   "execution_count": 50,
   "id": "33c5f4ab-1b62-4b72-9d21-6f81fdf3cfdd",
   "metadata": {},
   "outputs": [
    {
     "data": {
      "text/html": [
       "<html>\\(\\displaystyle i \\, k s^{2} G\\left(s\\right) + i \\, m s \\frac{\\partial}{\\partial s}F\\left(s\\right) - i \\, m F\\left(s\\right)\\)</html>"
      ],
      "text/latex": [
       "$\\displaystyle i \\, k s^{2} G\\left(s\\right) + i \\, m s \\frac{\\partial}{\\partial s}F\\left(s\\right) - i \\, m F\\left(s\\right)$"
      ],
      "text/plain": [
       "I*k*s^2*G(s) + I*m*s*diff(F(s), s) - I*m*F(s)"
      ]
     },
     "metadata": {},
     "output_type": "display_data"
    }
   ],
   "source": [
    "bph = e_ph.dot(b)*exp(-I*k*z)*exp(-I*m*ph)*exp(-I*ω*t)*s**2\n",
    "bph.expr().full_simplify().show()"
   ]
  },
  {
   "cell_type": "code",
   "execution_count": 26,
   "id": "d7202e7c-59ca-4e1b-994d-d2f6268f516f",
   "metadata": {},
   "outputs": [
    {
     "data": {
      "text/html": [
       "<html>\\(\\displaystyle i \\, k s^{2} \\frac{\\partial}{\\partial s}F\\left(s\\right) + i \\, k s F\\left(s\\right) - i \\, m s G\\left(s\\right)\\)</html>"
      ],
      "text/latex": [
       "$\\displaystyle i \\, k s^{2} \\frac{\\partial}{\\partial s}F\\left(s\\right) + i \\, k s F\\left(s\\right) - i \\, m s G\\left(s\\right)$"
      ],
      "text/plain": [
       "I*k*s^2*diff(F(s), s) + I*k*s*F(s) - I*m*s*G(s)"
      ]
     },
     "metadata": {},
     "output_type": "display_data"
    }
   ],
   "source": [
    "bz = e_z.dot(b)*exp(-I*k*z)*exp(-I*m*ph)*exp(-I*ω*t)*s**2\n",
    "bz.expr().full_simplify().show()"
   ]
  },
  {
   "cell_type": "code",
   "execution_count": 1,
   "id": "a072aab4-1e08-4dab-ab8e-96250d88a8a6",
   "metadata": {},
   "outputs": [],
   "source": [
    "F_1, dF_1, G_1, k, m, C = var('F_1 dF_1 G_1 k m C')"
   ]
  },
  {
   "cell_type": "code",
   "execution_count": 2,
   "id": "99882f23-cede-4214-9eff-ed9186de418a",
   "metadata": {},
   "outputs": [
    {
     "data": {
      "text/html": [
       "<html>\\(\\displaystyle \\Phi\\left(s\\right) = C_{1} Y_{m}(-i \\, k s)\\)</html>"
      ],
      "text/latex": [
       "$\\displaystyle \\Phi\\left(s\\right) = C_{1} Y_{m}(-i \\, k s)$"
      ],
      "text/plain": [
       "Phi(s) == C1*bessel_Y(m, -I*k*s)"
      ]
     },
     "execution_count": 13,
     "metadata": {},
     "output_type": "execute_result"
    }
   ],
   "source": [
    "Phi = function('Phi')(s)\n",
    "Phi == C1*bessel_Y(m,-I*k*s)"
   ]
  },
  {
   "cell_type": "code",
   "execution_count": 73,
   "id": "ca0cf43e-be39-4b7b-9ce1-02c62b718d07",
   "metadata": {},
   "outputs": [
    {
     "data": {
      "text/html": [
       "<html>\\(\\displaystyle {\\left(k^{2} s^{2} + m^{2}\\right)} F\\left(s\\right) + C_{1} \\frac{\\partial}{\\partial s}\\Phi\\left(s\\right) = 0\\)</html>"
      ],
      "text/latex": [
       "$\\displaystyle {\\left(k^{2} s^{2} + m^{2}\\right)} F\\left(s\\right) + C_{1} \\frac{\\partial}{\\partial s}\\Phi\\left(s\\right) = 0$"
      ],
      "text/plain": [
       "(k^2*s^2 + m^2)*F(s) + C1*diff(Phi(s), s) == 0"
      ]
     },
     "metadata": {},
     "output_type": "display_data"
    }
   ],
   "source": [
    "eq_s = bs + C1*Phi.diff(s)\n",
    "eq1 = (eq_s.expr() == 0)\n",
    "eq1.show()"
   ]
  },
  {
   "cell_type": "code",
   "execution_count": 17,
   "id": "dbaa3794-498c-4ca4-8de4-8e0f08962715",
   "metadata": {},
   "outputs": [
    {
     "data": {
      "text/html": [
       "<html>\\(\\displaystyle F_{1} = -\\frac{i \\, C k {\\left(Y_{m + 1}(-i \\, k s) - Y_{m - 1}(-i \\, k s)\\right)}}{2 \\, {\\left(k^{2} + m^{2}\\right)}}\\)</html>"
      ],
      "text/latex": [
       "$\\displaystyle F_{1} = -\\frac{i \\, C k {\\left(Y_{m + 1}(-i \\, k s) - Y_{m - 1}(-i \\, k s)\\right)}}{2 \\, {\\left(k^{2} + m^{2}\\right)}}$"
      ],
      "text/plain": [
       "F_1 == -1/2*I*C*k*(bessel_Y(m + 1, -I*k*s) - bessel_Y(m - 1, -I*k*s))/(k^2 + m^2)"
      ]
     },
     "execution_count": 17,
     "metadata": {},
     "output_type": "execute_result"
    }
   ],
   "source": [
    "F_1 == -(C/(k**2 + m**2))*diff(bessel_Y(m,-(I*k)*s),s)"
   ]
  },
  {
   "cell_type": "code",
   "execution_count": 18,
   "id": "f3407ad9-576c-4269-b519-7c90e0bf0d63",
   "metadata": {},
   "outputs": [
    {
     "data": {
      "text/html": [
       "<html>\\(\\displaystyle \\mathit{dF}_{1} = -\\frac{i \\, C k {\\left(Y_{m + 1}(-i \\, k s) - Y_{m - 1}(-i \\, k s)\\right)}}{2 \\, {\\left(k^{2} + m^{2}\\right)}} - C Y_{m}(-i \\, k s)\\)</html>"
      ],
      "text/latex": [
       "$\\displaystyle \\mathit{dF}_{1} = -\\frac{i \\, C k {\\left(Y_{m + 1}(-i \\, k s) - Y_{m - 1}(-i \\, k s)\\right)}}{2 \\, {\\left(k^{2} + m^{2}\\right)}} - C Y_{m}(-i \\, k s)$"
      ],
      "text/plain": [
       "dF_1 == -1/2*I*C*k*(bessel_Y(m + 1, -I*k*s) - bessel_Y(m - 1, -I*k*s))/(k^2 + m^2) - C*bessel_Y(m, -I*k*s)"
      ]
     },
     "execution_count": 18,
     "metadata": {},
     "output_type": "execute_result"
    }
   ],
   "source": [
    "dF_1 == -(C/(k**2 + m**2))*diff(bessel_Y(m,-(I*k)*s),s) - C*(bessel_Y(m,-(I*k)*s))"
   ]
  },
  {
   "cell_type": "code",
   "execution_count": 74,
   "id": "030437a5-5242-4fe8-9939-5db75232f297",
   "metadata": {},
   "outputs": [
    {
     "data": {
      "text/html": [
       "<html>\\(\\displaystyle i \\, k s^{2} G\\left(s\\right) + i \\, m s \\frac{\\partial}{\\partial s}F\\left(s\\right) + i \\, C_{1} m \\frac{\\partial}{\\partial s}\\Phi\\left(s\\right) - i \\, m F\\left(s\\right) = 0\\)</html>"
      ],
      "text/latex": [
       "$\\displaystyle i \\, k s^{2} G\\left(s\\right) + i \\, m s \\frac{\\partial}{\\partial s}F\\left(s\\right) + i \\, C_{1} m \\frac{\\partial}{\\partial s}\\Phi\\left(s\\right) - i \\, m F\\left(s\\right) = 0$"
      ],
      "text/plain": [
       "I*k*s^2*G(s) + I*m*s*diff(F(s), s) + I*C1*m*diff(Phi(s), s) - I*m*F(s) == 0"
      ]
     },
     "metadata": {},
     "output_type": "display_data"
    }
   ],
   "source": [
    "eq_ph = bph + I*m*C1*Phi.diff(s)\n",
    "eq2 = (eq_ph.expr() == 0)\n",
    "eq2.show()"
   ]
  },
  {
   "cell_type": "code",
   "execution_count": 75,
   "id": "90624fec-9a41-4a32-950b-845c7c58e7a9",
   "metadata": {},
   "outputs": [
    {
     "data": {
      "text/html": [
       "<html>\\(\\displaystyle i \\, k s^{2} \\frac{\\partial}{\\partial s}F\\left(s\\right) + i \\, k s F\\left(s\\right) - i \\, m s G\\left(s\\right) + i \\, C_{1} m \\frac{\\partial}{\\partial s}\\Phi\\left(s\\right) = 0\\)</html>"
      ],
      "text/latex": [
       "$\\displaystyle i \\, k s^{2} \\frac{\\partial}{\\partial s}F\\left(s\\right) + i \\, k s F\\left(s\\right) - i \\, m s G\\left(s\\right) + i \\, C_{1} m \\frac{\\partial}{\\partial s}\\Phi\\left(s\\right) = 0$"
      ],
      "text/plain": [
       "I*k*s^2*diff(F(s), s) + I*k*s*F(s) - I*m*s*G(s) + I*C1*m*diff(Phi(s), s) == 0"
      ]
     },
     "metadata": {},
     "output_type": "display_data"
    }
   ],
   "source": [
    "eq_z = bz + I*m*C1*Phi.diff(s)\n",
    "eq3 = (eq_z.expr() == 0)\n",
    "eq3.show()"
   ]
  },
  {
   "cell_type": "markdown",
   "id": "04204956-ca94-4d87-852d-7d1daa7d7981",
   "metadata": {
    "jp-MarkdownHeadingCollapsed": true,
    "tags": []
   },
   "source": [
    "## 5. Lundquist's solution : m = 0, $\\Omega = 0$"
   ]
  },
  {
   "cell_type": "markdown",
   "id": "b50eac13-3b01-46a7-959c-3f7c69816d75",
   "metadata": {},
   "source": [
    "For $m=0$ and $\\Omega \\to 0$, the governing equations reduce to Lundquist’s ideal-MHD model for a cylindrical plasma column. In this model, the radial equation for the perturbation \\(b(s)\\) reads\n",
    "\\begin{equation}\n",
    "\\frac{\\partial^2 b}{\\partial s^2} + \\frac{1}{s} \\frac{\\partial b}{\\partial s} + \\left(k_L^2 - \\frac{1}{s^2}\\right) b = 0,\n",
    "\\end{equation}\n",
    "whose regular solution at \\(s=0\\) is\n",
    "\\begin{equation}\n",
    "b(s,t,z) = A\\, J_1(k_L s) \\, e^{i\\omega t + i\\alpha z}.\n",
    "\\end{equation}\n",
    "the boudnary codnitions $b(a) = 0$ leads to :\n",
    "\\begin{equation}\n",
    "    J_1(k_L a) = 0 \\Rightarrow k_L = \\frac{j_{1,n}}{a}\n",
    "\\end{equation}\n",
    "so that\n",
    "\\begin{equation}\n",
    "    \\omega_{Lund}^{(\\pm)} = \\pm\\, v_A\\, k_L\n",
    "\\end{equation}"
   ]
  },
  {
   "cell_type": "code",
   "execution_count": null,
   "id": "5f053727-ffb0-4817-a447-0d232fb39a0b",
   "metadata": {},
   "outputs": [],
   "source": []
  }
 ],
 "metadata": {
  "kernelspec": {
   "display_name": "Python 3 (ipykernel)",
   "language": "python",
   "name": "python3"
  },
  "language_info": {
   "codemirror_mode": {
    "name": "ipython",
    "version": 3
   },
   "file_extension": ".py",
   "mimetype": "text/x-python",
   "name": "python",
   "nbconvert_exporter": "python",
   "pygments_lexer": "ipython3",
   "version": "3.10.9"
  }
 },
 "nbformat": 4,
 "nbformat_minor": 5
}
