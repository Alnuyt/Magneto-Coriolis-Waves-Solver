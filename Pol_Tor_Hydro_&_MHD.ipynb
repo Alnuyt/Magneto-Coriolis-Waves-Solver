{
 "cells": [
  {
   "cell_type": "markdown",
   "id": "7cb88851-cd02-46f3-aa99-3b883f77409e",
   "metadata": {
    "tags": []
   },
   "source": [
    "# Cylindrical Magneto-Coriolis Modes "
   ]
  },
  {
   "cell_type": "markdown",
   "id": "d2244ccd-6df1-4df6-9fbc-2c6e1bcdd973",
   "metadata": {},
   "source": [
    "This notebook builds a complete symbolic-to-numerical pipeline to compute linear **magneto-Coriolis modes** in a rotating cylinder using a **toroidal–poloidal** formulation. Velocity and magnetic perturbations are expanded as Fourier modes $e^{i(k z + m\\varphi - \\omega t)}$ with radial amplitudes defined by the potentials $(T,P)$ for the flow and $(G,F)$ for the magnetic field. With SageMath’s differential operators in cylindrical coordinates, we construct the linearized momentum and induction equations, and assemble a coupled radial system for $[T,P,G,F]^T$. Boundary conditions at the cylinder radius $s=a$ are imposed by matching the interior field to an exterior current-free field $\\boldsymbol B_{\\text{ext}}=-\\nabla\\Phi$. The resulting problem is a generalized eigenvalue problem, which is solved numerically (SciPy) to obtain radial eigenvalues and associated spectra $\\omega\\,(m, n, k)$. The notebook outputs the eigenvalues/vectors, derived quantities, and plots, providing reproducible workflow for exploring rotating MHD waves in cylindrical geometry."
   ]
  },
  {
   "cell_type": "markdown",
   "id": "db45ed22-be1a-42df-a908-268517d193a7",
   "metadata": {
    "jp-MarkdownHeadingCollapsed": true,
    "tags": []
   },
   "source": [
    "## 1. Definitions"
   ]
  },
  {
   "cell_type": "code",
   "execution_count": 1,
   "id": "d54f8e10",
   "metadata": {},
   "outputs": [
    {
     "data": {
      "text/plain": [
       "'SageMath version 10.2, Release Date: 2023-12-03'"
      ]
     },
     "execution_count": 1,
     "metadata": {},
     "output_type": "execute_result"
    }
   ],
   "source": [
    "version()"
   ]
  },
  {
   "cell_type": "code",
   "execution_count": 2,
   "id": "2c34c3c8",
   "metadata": {},
   "outputs": [],
   "source": [
    "%display latex "
   ]
  },
  {
   "cell_type": "code",
   "execution_count": 3,
   "id": "1ba20c97",
   "metadata": {},
   "outputs": [
    {
     "name": "stdout",
     "output_type": "stream",
     "text": [
      "Euclidean space E^3\n"
     ]
    },
    {
     "data": {
      "text/html": [
       "<html>\\(\\displaystyle \\mathbb{E}^{3}\\)</html>"
      ],
      "text/latex": [
       "$\\displaystyle \\mathbb{E}^{3}$"
      ],
      "text/plain": [
       "Euclidean space E^3"
      ]
     },
     "execution_count": 3,
     "metadata": {},
     "output_type": "execute_result"
    }
   ],
   "source": [
    "E.<s,ph,z> = EuclideanSpace(coordinates='cylindrical')\n",
    "print(E)\n",
    "E"
   ]
  },
  {
   "cell_type": "code",
   "execution_count": 4,
   "id": "a8aec662",
   "metadata": {},
   "outputs": [],
   "source": [
    "var('k');\n",
    "var('m');\n",
    "var('ω');\n",
    "var('Omega');\n",
    "var('t');\n",
    "var('B0');\n",
    "var('a');\n",
    "var('mu');\n",
    "var('rho');\n",
    "var('C1');"
   ]
  },
  {
   "cell_type": "code",
   "execution_count": 8,
   "id": "675c6853",
   "metadata": {},
   "outputs": [],
   "source": [
    "e_s=E.cylindrical_frame()[1]\n",
    "e_ph=E.cylindrical_frame()[2]\n",
    "e_z=E.cylindrical_frame()[3]"
   ]
  },
  {
   "cell_type": "markdown",
   "id": "ac5e400c-9de6-44cd-af14-6c4b8183c7d9",
   "metadata": {
    "tags": []
   },
   "source": [
    "### Toroidal - Poloidal Fields"
   ]
  },
  {
   "cell_type": "code",
   "execution_count": 9,
   "id": "85ec8d8f",
   "metadata": {},
   "outputs": [
    {
     "data": {
      "text/html": [
       "<html>\\(\\displaystyle \\begin{array}{llcl} T:& \\mathbb{E}^{3} & \\longrightarrow & \\mathbb{R} \\\\ & \\left(s, {\\phi}, z\\right) & \\longmapsto & T\\left(s\\right) e^{\\left(i \\, m {\\phi} + i \\, k z + i \\, t ω\\right)} \\end{array}\\)</html>"
      ],
      "text/latex": [
       "$\\displaystyle \\begin{array}{llcl} T:& \\mathbb{E}^{3} & \\longrightarrow & \\mathbb{R} \\\\ & \\left(s, {\\phi}, z\\right) & \\longmapsto & T\\left(s\\right) e^{\\left(i \\, m {\\phi} + i \\, k z + i \\, t ω\\right)} \\end{array}$"
      ],
      "text/plain": [
       "T: E^3 → ℝ\n",
       "   (s, ph, z) ↦ T(s)*e^(I*m*ph + I*k*z + I*t*ω)"
      ]
     },
     "execution_count": 9,
     "metadata": {},
     "output_type": "execute_result"
    }
   ],
   "source": [
    "T = E.scalar_field(function('T')(s)*exp(I*k*z)*exp(I*m*ph)*exp(I*ω*t), name='T')\n",
    "T.display()"
   ]
  },
  {
   "cell_type": "code",
   "execution_count": 10,
   "id": "2fc54aa9-d366-48b0-9b10-2c05c36ed5df",
   "metadata": {},
   "outputs": [
    {
     "data": {
      "text/html": [
       "<html>\\(\\displaystyle \\begin{array}{llcl} G:& \\mathbb{E}^{3} & \\longrightarrow & \\mathbb{R} \\\\ & \\left(s, {\\phi}, z\\right) & \\longmapsto & G\\left(s\\right) e^{\\left(i \\, m {\\phi} + i \\, k z + i \\, t ω\\right)} \\end{array}\\)</html>"
      ],
      "text/latex": [
       "$\\displaystyle \\begin{array}{llcl} G:& \\mathbb{E}^{3} & \\longrightarrow & \\mathbb{R} \\\\ & \\left(s, {\\phi}, z\\right) & \\longmapsto & G\\left(s\\right) e^{\\left(i \\, m {\\phi} + i \\, k z + i \\, t ω\\right)} \\end{array}$"
      ],
      "text/plain": [
       "G: E^3 → ℝ\n",
       "   (s, ph, z) ↦ G(s)*e^(I*m*ph + I*k*z + I*t*ω)"
      ]
     },
     "execution_count": 10,
     "metadata": {},
     "output_type": "execute_result"
    }
   ],
   "source": [
    "G = E.scalar_field(function('G')(s)*exp(I*k*z)*exp(I*m*ph)*exp(I*ω*t), name='G')\n",
    "G.display()"
   ]
  },
  {
   "cell_type": "code",
   "execution_count": 11,
   "id": "9b621ae8",
   "metadata": {},
   "outputs": [
    {
     "data": {
      "text/html": [
       "<html>\\(\\displaystyle \\begin{array}{llcl} P:& \\mathbb{E}^{3} & \\longrightarrow & \\mathbb{R} \\\\ & \\left(s, {\\phi}, z\\right) & \\longmapsto & P\\left(s\\right) e^{\\left(i \\, m {\\phi} + i \\, k z + i \\, t ω\\right)} \\end{array}\\)</html>"
      ],
      "text/latex": [
       "$\\displaystyle \\begin{array}{llcl} P:& \\mathbb{E}^{3} & \\longrightarrow & \\mathbb{R} \\\\ & \\left(s, {\\phi}, z\\right) & \\longmapsto & P\\left(s\\right) e^{\\left(i \\, m {\\phi} + i \\, k z + i \\, t ω\\right)} \\end{array}$"
      ],
      "text/plain": [
       "P: E^3 → ℝ\n",
       "   (s, ph, z) ↦ P(s)*e^(I*m*ph + I*k*z + I*t*ω)"
      ]
     },
     "execution_count": 11,
     "metadata": {},
     "output_type": "execute_result"
    }
   ],
   "source": [
    "P = E.scalar_field(function('P')(s)*exp(I*k*z)*exp(I*m*ph)*exp(I*ω*t), name='P')\n",
    "P.display()"
   ]
  },
  {
   "cell_type": "code",
   "execution_count": 12,
   "id": "ca56a3c3-30a8-4846-bcca-d76bf17235cb",
   "metadata": {},
   "outputs": [
    {
     "data": {
      "text/html": [
       "<html>\\(\\displaystyle \\begin{array}{llcl} F:& \\mathbb{E}^{3} & \\longrightarrow & \\mathbb{R} \\\\ & \\left(s, {\\phi}, z\\right) & \\longmapsto & F\\left(s\\right) e^{\\left(i \\, m {\\phi} + i \\, k z + i \\, t ω\\right)} \\end{array}\\)</html>"
      ],
      "text/latex": [
       "$\\displaystyle \\begin{array}{llcl} F:& \\mathbb{E}^{3} & \\longrightarrow & \\mathbb{R} \\\\ & \\left(s, {\\phi}, z\\right) & \\longmapsto & F\\left(s\\right) e^{\\left(i \\, m {\\phi} + i \\, k z + i \\, t ω\\right)} \\end{array}$"
      ],
      "text/plain": [
       "F: E^3 → ℝ\n",
       "   (s, ph, z) ↦ F(s)*e^(I*m*ph + I*k*z + I*t*ω)"
      ]
     },
     "execution_count": 12,
     "metadata": {},
     "output_type": "execute_result"
    }
   ],
   "source": [
    "F = E.scalar_field(function('F')(s)*exp(I*k*z)*exp(I*m*ph)*exp(I*ω*t), name='F')\n",
    "F.display()"
   ]
  },
  {
   "cell_type": "code",
   "execution_count": 13,
   "id": "1ed47c35",
   "metadata": {},
   "outputs": [],
   "source": [
    "from sage.manifolds.operators import *\n",
    "from sage.manifolds.operators import grad"
   ]
  },
  {
   "cell_type": "markdown",
   "id": "92d99ef0-24e5-4c7c-96c0-b81facd5707a",
   "metadata": {
    "jp-MarkdownHeadingCollapsed": true,
    "tags": []
   },
   "source": [
    "## 2. Hydrodynamic"
   ]
  },
  {
   "cell_type": "markdown",
   "id": "f24c0ac9",
   "metadata": {
    "jp-MarkdownHeadingCollapsed": true,
    "tags": []
   },
   "source": [
    "### Velocity field"
   ]
  },
  {
   "cell_type": "code",
   "execution_count": 14,
   "id": "494a0d22",
   "metadata": {},
   "outputs": [
    {
     "data": {
      "text/html": [
       "<html>\\(\\displaystyle \\mathrm{curl}\\left( T \\cdot e_{ s } \\right) + \\mathrm{curl}\\left( \\mathrm{curl}\\left( P \\cdot e_{ s } \\right) \\right) = \\frac{{\\left(k^{2} s^{2} e^{\\left(i \\, m {\\phi}\\right)} + m^{2} e^{\\left(i \\, m {\\phi}\\right)}\\right)} P\\left(s\\right) e^{\\left(i \\, k z + i \\, t ω\\right)}}{s^{2}} e_{ s } + \\frac{{\\left(i \\, k s^{2} T\\left(s\\right) e^{\\left(i \\, m {\\phi}\\right)} + i \\, m s e^{\\left(i \\, m {\\phi}\\right)} \\frac{\\partial\\,P}{\\partial s} - i \\, m P\\left(s\\right) e^{\\left(i \\, m {\\phi}\\right)}\\right)} e^{\\left(i \\, k z + i \\, t ω\\right)}}{s^{2}} e_{ {\\phi} } + \\frac{{\\left(i \\, k s e^{\\left(i \\, m {\\phi}\\right)} \\frac{\\partial\\,P}{\\partial s} + i \\, k P\\left(s\\right) e^{\\left(i \\, m {\\phi}\\right)} - i \\, m T\\left(s\\right) e^{\\left(i \\, m {\\phi}\\right)}\\right)} e^{\\left(i \\, k z + i \\, t ω\\right)}}{s} e_{ z }\\)</html>"
      ],
      "text/latex": [
       "$\\displaystyle \\mathrm{curl}\\left( T \\cdot e_{ s } \\right) + \\mathrm{curl}\\left( \\mathrm{curl}\\left( P \\cdot e_{ s } \\right) \\right) = \\frac{{\\left(k^{2} s^{2} e^{\\left(i \\, m {\\phi}\\right)} + m^{2} e^{\\left(i \\, m {\\phi}\\right)}\\right)} P\\left(s\\right) e^{\\left(i \\, k z + i \\, t ω\\right)}}{s^{2}} e_{ s } + \\frac{{\\left(i \\, k s^{2} T\\left(s\\right) e^{\\left(i \\, m {\\phi}\\right)} + i \\, m s e^{\\left(i \\, m {\\phi}\\right)} \\frac{\\partial\\,P}{\\partial s} - i \\, m P\\left(s\\right) e^{\\left(i \\, m {\\phi}\\right)}\\right)} e^{\\left(i \\, k z + i \\, t ω\\right)}}{s^{2}} e_{ {\\phi} } + \\frac{{\\left(i \\, k s e^{\\left(i \\, m {\\phi}\\right)} \\frac{\\partial\\,P}{\\partial s} + i \\, k P\\left(s\\right) e^{\\left(i \\, m {\\phi}\\right)} - i \\, m T\\left(s\\right) e^{\\left(i \\, m {\\phi}\\right)}\\right)} e^{\\left(i \\, k z + i \\, t ω\\right)}}{s} e_{ z }$"
      ],
      "text/plain": [
       "curl(T*e_s)+curl(curl(P*e_s)) = (k^2*s^2*e^(I*m*ph) + m^2*e^(I*m*ph))*P(s)*e^(I*k*z + I*t*ω)/s^2 e_s + (I*k*s^2*T(s)*e^(I*m*ph) + I*m*s*e^(I*m*ph)*d(P)/ds - I*m*P(s)*e^(I*m*ph))*e^(I*k*z + I*t*ω)/s^2 e_ph + (I*k*s*e^(I*m*ph)*d(P)/ds + I*k*P(s)*e^(I*m*ph) - I*m*T(s)*e^(I*m*ph))*e^(I*k*z + I*t*ω)/s e_z"
      ]
     },
     "execution_count": 14,
     "metadata": {},
     "output_type": "execute_result"
    }
   ],
   "source": [
    "v= curl(T*e_s) + curl(curl(P*e_s))\n",
    "v.display()"
   ]
  },
  {
   "cell_type": "markdown",
   "id": "07ae656c-88fa-4ba1-8282-a303746e72ae",
   "metadata": {},
   "source": [
    " \\begin{align}\n",
    "    v_s &= \\left( k^2 P(s) + \\frac{m^2}{s^2}P(s) \\right) e^{i(kz + m\\varphi + \\omega t)}  \\\\\n",
    "    v_{\\varphi} &= \\left(ik T(s) + \\frac{im}{s}\\frac{\\partial P}{\\partial s} - \\frac{im}{s^2}P(s) \\right) e^{i(kz + m\\varphi + \\omega t)} \\\\\n",
    "    v_z &= \\left( ik \\frac{\\partial P}{\\partial s} + \\frac{ik}{s}P(s) - \\frac{im}{s}T(s) \\right) e^{i(kz + m\\varphi + \\omega t)}\n",
    "\\end{align}"
   ]
  },
  {
   "cell_type": "code",
   "execution_count": 15,
   "id": "a1fba45c-89c8-44fe-af51-7317d7c6608d",
   "metadata": {},
   "outputs": [
    {
     "data": {
      "text/html": [
       "<html>\\(\\displaystyle \\frac{{\\left(i \\, k^{2} s^{2} e^{\\left(i \\, m {\\phi}\\right)} + i \\, m^{2} e^{\\left(i \\, m {\\phi}\\right)}\\right)} ω P\\left(s\\right) e^{\\left(i \\, k z + i \\, t ω\\right)}}{s^{2}} e_{ s } -\\frac{{\\left(k s^{2} T\\left(s\\right) e^{\\left(i \\, m {\\phi}\\right)} + m s e^{\\left(i \\, m {\\phi}\\right)} \\frac{\\partial\\,P}{\\partial s} - m P\\left(s\\right) e^{\\left(i \\, m {\\phi}\\right)}\\right)} ω e^{\\left(i \\, k z + i \\, t ω\\right)}}{s^{2}} e_{ {\\phi} } -\\frac{{\\left(k s e^{\\left(i \\, m {\\phi}\\right)} \\frac{\\partial\\,P}{\\partial s} + k P\\left(s\\right) e^{\\left(i \\, m {\\phi}\\right)} - m T\\left(s\\right) e^{\\left(i \\, m {\\phi}\\right)}\\right)} ω e^{\\left(i \\, k z + i \\, t ω\\right)}}{s} e_{ z }\\)</html>"
      ],
      "text/latex": [
       "$\\displaystyle \\frac{{\\left(i \\, k^{2} s^{2} e^{\\left(i \\, m {\\phi}\\right)} + i \\, m^{2} e^{\\left(i \\, m {\\phi}\\right)}\\right)} ω P\\left(s\\right) e^{\\left(i \\, k z + i \\, t ω\\right)}}{s^{2}} e_{ s } -\\frac{{\\left(k s^{2} T\\left(s\\right) e^{\\left(i \\, m {\\phi}\\right)} + m s e^{\\left(i \\, m {\\phi}\\right)} \\frac{\\partial\\,P}{\\partial s} - m P\\left(s\\right) e^{\\left(i \\, m {\\phi}\\right)}\\right)} ω e^{\\left(i \\, k z + i \\, t ω\\right)}}{s^{2}} e_{ {\\phi} } -\\frac{{\\left(k s e^{\\left(i \\, m {\\phi}\\right)} \\frac{\\partial\\,P}{\\partial s} + k P\\left(s\\right) e^{\\left(i \\, m {\\phi}\\right)} - m T\\left(s\\right) e^{\\left(i \\, m {\\phi}\\right)}\\right)} ω e^{\\left(i \\, k z + i \\, t ω\\right)}}{s} e_{ z }$"
      ],
      "text/plain": [
       "(I*k^2*s^2*e^(I*m*ph) + I*m^2*e^(I*m*ph))*ω*P(s)*e^(I*k*z + I*t*ω)/s^2 e_s - (k*s^2*T(s)*e^(I*m*ph) + m*s*e^(I*m*ph)*d(P)/ds - m*P(s)*e^(I*m*ph))*ω*e^(I*k*z + I*t*ω)/s^2 e_ph - (k*s*e^(I*m*ph)*d(P)/ds + k*P(s)*e^(I*m*ph) - m*T(s)*e^(I*m*ph))*ω*e^(I*k*z + I*t*ω)/s e_z"
      ]
     },
     "execution_count": 15,
     "metadata": {},
     "output_type": "execute_result"
    }
   ],
   "source": [
    "dt_v = I*ω*v\n",
    "dt_v.display()"
   ]
  },
  {
   "cell_type": "markdown",
   "id": "118ef311-e82f-46f4-961c-a593a7da1987",
   "metadata": {
    "tags": []
   },
   "source": [
    "### Navier-Stokes equations"
   ]
  },
  {
   "cell_type": "code",
   "execution_count": 12,
   "id": "2810d5bd-2139-46f1-83fa-2580d2da9ea7",
   "metadata": {},
   "outputs": [
    {
     "data": {
      "text/html": [
       "<html>\\(\\displaystyle \\frac{{\\left({\\left(i \\, k^{2} s^{2} e^{\\left(i \\, m {\\phi}\\right)} + i \\, m^{2} e^{\\left(i \\, m {\\phi}\\right)}\\right)} ω P\\left(s\\right) e^{\\left(i \\, k z\\right)} - 2 \\, {\\left(i \\, \\Omega k s^{2} T\\left(s\\right) e^{\\left(i \\, m {\\phi}\\right)} + i \\, \\Omega m s e^{\\left(i \\, m {\\phi}\\right)} \\frac{\\partial\\,P}{\\partial s} - i \\, \\Omega m P\\left(s\\right) e^{\\left(i \\, m {\\phi}\\right)}\\right)} e^{\\left(i \\, k z\\right)}\\right)} e^{\\left(i \\, t ω\\right)}}{s^{2}} e_{ s } -\\frac{{\\left({\\left(k s^{2} T\\left(s\\right) e^{\\left(i \\, m {\\phi}\\right)} + m s e^{\\left(i \\, m {\\phi}\\right)} \\frac{\\partial\\,P}{\\partial s} - m P\\left(s\\right) e^{\\left(i \\, m {\\phi}\\right)}\\right)} ω e^{\\left(i \\, k z\\right)} - 2 \\, {\\left(\\Omega k^{2} s^{2} e^{\\left(i \\, m {\\phi}\\right)} + \\Omega m^{2} e^{\\left(i \\, m {\\phi}\\right)}\\right)} P\\left(s\\right) e^{\\left(i \\, k z\\right)}\\right)} e^{\\left(i \\, t ω\\right)}}{s^{2}} e_{ {\\phi} } -\\frac{{\\left(k s e^{\\left(i \\, m {\\phi}\\right)} \\frac{\\partial\\,P}{\\partial s} + k P\\left(s\\right) e^{\\left(i \\, m {\\phi}\\right)} - m T\\left(s\\right) e^{\\left(i \\, m {\\phi}\\right)}\\right)} ω e^{\\left(i \\, k z + i \\, t ω\\right)}}{s} e_{ z }\\)</html>"
      ],
      "text/latex": [
       "$\\displaystyle \\frac{{\\left({\\left(i \\, k^{2} s^{2} e^{\\left(i \\, m {\\phi}\\right)} + i \\, m^{2} e^{\\left(i \\, m {\\phi}\\right)}\\right)} ω P\\left(s\\right) e^{\\left(i \\, k z\\right)} - 2 \\, {\\left(i \\, \\Omega k s^{2} T\\left(s\\right) e^{\\left(i \\, m {\\phi}\\right)} + i \\, \\Omega m s e^{\\left(i \\, m {\\phi}\\right)} \\frac{\\partial\\,P}{\\partial s} - i \\, \\Omega m P\\left(s\\right) e^{\\left(i \\, m {\\phi}\\right)}\\right)} e^{\\left(i \\, k z\\right)}\\right)} e^{\\left(i \\, t ω\\right)}}{s^{2}} e_{ s } -\\frac{{\\left({\\left(k s^{2} T\\left(s\\right) e^{\\left(i \\, m {\\phi}\\right)} + m s e^{\\left(i \\, m {\\phi}\\right)} \\frac{\\partial\\,P}{\\partial s} - m P\\left(s\\right) e^{\\left(i \\, m {\\phi}\\right)}\\right)} ω e^{\\left(i \\, k z\\right)} - 2 \\, {\\left(\\Omega k^{2} s^{2} e^{\\left(i \\, m {\\phi}\\right)} + \\Omega m^{2} e^{\\left(i \\, m {\\phi}\\right)}\\right)} P\\left(s\\right) e^{\\left(i \\, k z\\right)}\\right)} e^{\\left(i \\, t ω\\right)}}{s^{2}} e_{ {\\phi} } -\\frac{{\\left(k s e^{\\left(i \\, m {\\phi}\\right)} \\frac{\\partial\\,P}{\\partial s} + k P\\left(s\\right) e^{\\left(i \\, m {\\phi}\\right)} - m T\\left(s\\right) e^{\\left(i \\, m {\\phi}\\right)}\\right)} ω e^{\\left(i \\, k z + i \\, t ω\\right)}}{s} e_{ z }$"
      ],
      "text/plain": [
       "((I*k^2*s^2*e^(I*m*ph) + I*m^2*e^(I*m*ph))*ω*P(s)*e^(I*k*z) - 2*(I*Omega*k*s^2*T(s)*e^(I*m*ph) + I*Omega*m*s*e^(I*m*ph)*d(P)/ds - I*Omega*m*P(s)*e^(I*m*ph))*e^(I*k*z))*e^(I*t*ω)/s^2 e_s - ((k*s^2*T(s)*e^(I*m*ph) + m*s*e^(I*m*ph)*d(P)/ds - m*P(s)*e^(I*m*ph))*ω*e^(I*k*z) - 2*(Omega*k^2*s^2*e^(I*m*ph) + Omega*m^2*e^(I*m*ph))*P(s)*e^(I*k*z))*e^(I*t*ω)/s^2 e_ph - (k*s*e^(I*m*ph)*d(P)/ds + k*P(s)*e^(I*m*ph) - m*T(s)*e^(I*m*ph))*ω*e^(I*k*z + I*t*ω)/s e_z"
      ]
     },
     "execution_count": 12,
     "metadata": {},
     "output_type": "execute_result"
    }
   ],
   "source": [
    "NS_vec = dt_v + 2*Omega*e_z.cross(v)\n",
    "NS_vec.display()"
   ]
  },
  {
   "cell_type": "code",
   "execution_count": 13,
   "id": "36844906-d496-46c3-ba14-f8f03f9ccbb1",
   "metadata": {},
   "outputs": [
    {
     "data": {
      "text/html": [
       "<html>\\(\\displaystyle \\begin{array}{llcl} & \\mathbb{E}^{3} & \\longrightarrow & \\mathbb{R} \\\\ & \\left(s, {\\phi}, z\\right) & \\longmapsto & -\\frac{{\\left({\\left(2 i \\, k m P\\left(s\\right) e^{\\left(i \\, m {\\phi}\\right)} + {\\left(-i \\, k^{2} s^{2} e^{\\left(i \\, m {\\phi}\\right)} - i \\, m^{2} e^{\\left(i \\, m {\\phi}\\right)}\\right)} T\\left(s\\right)\\right)} ω e^{\\left(i \\, k z\\right)} + 2 \\, {\\left(i \\, \\Omega k^{3} s^{2} e^{\\left(i \\, m {\\phi}\\right)} + i \\, \\Omega k m^{2} e^{\\left(i \\, m {\\phi}\\right)}\\right)} P\\left(s\\right) e^{\\left(i \\, k z\\right)}\\right)} e^{\\left(i \\, t ω\\right)}}{s^{2}} \\end{array}\\)</html>"
      ],
      "text/latex": [
       "$\\displaystyle \\begin{array}{llcl} & \\mathbb{E}^{3} & \\longrightarrow & \\mathbb{R} \\\\ & \\left(s, {\\phi}, z\\right) & \\longmapsto & -\\frac{{\\left({\\left(2 i \\, k m P\\left(s\\right) e^{\\left(i \\, m {\\phi}\\right)} + {\\left(-i \\, k^{2} s^{2} e^{\\left(i \\, m {\\phi}\\right)} - i \\, m^{2} e^{\\left(i \\, m {\\phi}\\right)}\\right)} T\\left(s\\right)\\right)} ω e^{\\left(i \\, k z\\right)} + 2 \\, {\\left(i \\, \\Omega k^{3} s^{2} e^{\\left(i \\, m {\\phi}\\right)} + i \\, \\Omega k m^{2} e^{\\left(i \\, m {\\phi}\\right)}\\right)} P\\left(s\\right) e^{\\left(i \\, k z\\right)}\\right)} e^{\\left(i \\, t ω\\right)}}{s^{2}} \\end{array}$"
      ],
      "text/plain": [
       "E^3 → ℝ\n",
       "(s, ph, z) ↦ -((2*I*k*m*P(s)*e^(I*m*ph) + (-I*k^2*s^2*e^(I*m*ph) - I*m^2*e^(I*m*ph))*T(s))*ω*e^(I*k*z) + 2*(I*Omega*k^3*s^2*e^(I*m*ph) + I*Omega*k*m^2*e^(I*m*ph))*P(s)*e^(I*k*z))*e^(I*t*ω)/s^2"
      ]
     },
     "execution_count": 13,
     "metadata": {},
     "output_type": "execute_result"
    }
   ],
   "source": [
    "NS_1 = e_s.dot(curl(NS_vec))\n",
    "NS_1.display()"
   ]
  },
  {
   "cell_type": "code",
   "execution_count": 14,
   "id": "66eb0692-4372-4130-ad84-82fd7200c961",
   "metadata": {},
   "outputs": [
    {
     "data": {
      "text/html": [
       "<html>\\(\\displaystyle \\begin{array}{llcl} & \\mathbb{E}^{3} & \\longrightarrow & \\mathbb{R} \\\\ & \\left(s, {\\phi}, z\\right) & \\longmapsto & \\frac{{\\left({\\left(-2 i \\, k m s^{2} T\\left(s\\right) e^{\\left(i \\, m {\\phi}\\right)} + {\\left(i \\, k^{4} s^{4} e^{\\left(i \\, m {\\phi}\\right)} + {\\left(2 i \\, k^{2} m^{2} + i \\, k^{2}\\right)} s^{2} e^{\\left(i \\, m {\\phi}\\right)} + {\\left(i \\, m^{4} - i \\, m^{2}\\right)} e^{\\left(i \\, m {\\phi}\\right)}\\right)} P\\left(s\\right) + {\\left(-i \\, k^{2} s^{3} e^{\\left(i \\, m {\\phi}\\right)} + i \\, m^{2} s e^{\\left(i \\, m {\\phi}\\right)}\\right)} \\frac{\\partial\\,P}{\\partial s} + {\\left(-i \\, k^{2} s^{4} e^{\\left(i \\, m {\\phi}\\right)} - i \\, m^{2} s^{2} e^{\\left(i \\, m {\\phi}\\right)}\\right)} \\frac{\\partial^2\\,P}{\\partial s ^ 2}\\right)} ω e^{\\left(i \\, k z\\right)} + 2 \\, {\\left(2 i \\, \\Omega k^{2} m s^{2} P\\left(s\\right) e^{\\left(i \\, m {\\phi}\\right)} + {\\left(-i \\, \\Omega k^{3} s^{4} e^{\\left(i \\, m {\\phi}\\right)} - i \\, \\Omega k m^{2} s^{2} e^{\\left(i \\, m {\\phi}\\right)}\\right)} T\\left(s\\right)\\right)} e^{\\left(i \\, k z\\right)}\\right)} e^{\\left(i \\, t ω\\right)}}{s^{4}} \\end{array}\\)</html>"
      ],
      "text/latex": [
       "$\\displaystyle \\begin{array}{llcl} & \\mathbb{E}^{3} & \\longrightarrow & \\mathbb{R} \\\\ & \\left(s, {\\phi}, z\\right) & \\longmapsto & \\frac{{\\left({\\left(-2 i \\, k m s^{2} T\\left(s\\right) e^{\\left(i \\, m {\\phi}\\right)} + {\\left(i \\, k^{4} s^{4} e^{\\left(i \\, m {\\phi}\\right)} + {\\left(2 i \\, k^{2} m^{2} + i \\, k^{2}\\right)} s^{2} e^{\\left(i \\, m {\\phi}\\right)} + {\\left(i \\, m^{4} - i \\, m^{2}\\right)} e^{\\left(i \\, m {\\phi}\\right)}\\right)} P\\left(s\\right) + {\\left(-i \\, k^{2} s^{3} e^{\\left(i \\, m {\\phi}\\right)} + i \\, m^{2} s e^{\\left(i \\, m {\\phi}\\right)}\\right)} \\frac{\\partial\\,P}{\\partial s} + {\\left(-i \\, k^{2} s^{4} e^{\\left(i \\, m {\\phi}\\right)} - i \\, m^{2} s^{2} e^{\\left(i \\, m {\\phi}\\right)}\\right)} \\frac{\\partial^2\\,P}{\\partial s ^ 2}\\right)} ω e^{\\left(i \\, k z\\right)} + 2 \\, {\\left(2 i \\, \\Omega k^{2} m s^{2} P\\left(s\\right) e^{\\left(i \\, m {\\phi}\\right)} + {\\left(-i \\, \\Omega k^{3} s^{4} e^{\\left(i \\, m {\\phi}\\right)} - i \\, \\Omega k m^{2} s^{2} e^{\\left(i \\, m {\\phi}\\right)}\\right)} T\\left(s\\right)\\right)} e^{\\left(i \\, k z\\right)}\\right)} e^{\\left(i \\, t ω\\right)}}{s^{4}} \\end{array}$"
      ],
      "text/plain": [
       "E^3 → ℝ\n",
       "(s, ph, z) ↦ ((-2*I*k*m*s^2*T(s)*e^(I*m*ph) + (I*k^4*s^4*e^(I*m*ph) + (2*I*k^2*m^2 + I*k^2)*s^2*e^(I*m*ph) + (I*m^4 - I*m^2)*e^(I*m*ph))*P(s) + (-I*k^2*s^3*e^(I*m*ph) + I*m^2*s*e^(I*m*ph))*d(P)/ds + (-I*k^2*s^4*e^(I*m*ph) - I*m^2*s^2*e^(I*m*ph))*d^2(P)/ds^2)*ω*e^(I*k*z) + 2*(2*I*Omega*k^2*m*s^2*P(s)*e^(I*m*ph) + (-I*Omega*k^3*s^4*e^(I*m*ph) - I*Omega*k*m^2*s^2*e^(I*m*ph))*T(s))*e^(I*k*z))*e^(I*t*ω)/s^4"
      ]
     },
     "execution_count": 14,
     "metadata": {},
     "output_type": "execute_result"
    }
   ],
   "source": [
    "NS_2 = e_s.dot(curl(curl(NS_vec)))\n",
    "NS_2.display()"
   ]
  },
  {
   "cell_type": "markdown",
   "id": "7795f5c8-adfa-4675-ba18-a923ebadc669",
   "metadata": {
    "jp-MarkdownHeadingCollapsed": true,
    "tags": []
   },
   "source": [
    "### Eigenvalue system"
   ]
  },
  {
   "cell_type": "code",
   "execution_count": 15,
   "id": "daf68e0b-2e3d-462c-81d6-8c58838f917c",
   "metadata": {},
   "outputs": [
    {
     "data": {
      "text/html": [
       "<html>\\(\\displaystyle {\\left(-2 i \\, k m P\\left(s\\right) + {\\left(i \\, k^{2} s^{2} + i \\, m^{2}\\right)} T\\left(s\\right)\\right)} ω + 2 \\, {\\left(-i \\, \\Omega k^{3} s^{2} - i \\, \\Omega k m^{2}\\right)} P\\left(s\\right) = 0\\)</html>"
      ],
      "text/latex": [
       "$\\displaystyle {\\left(-2 i \\, k m P\\left(s\\right) + {\\left(i \\, k^{2} s^{2} + i \\, m^{2}\\right)} T\\left(s\\right)\\right)} ω + 2 \\, {\\left(-i \\, \\Omega k^{3} s^{2} - i \\, \\Omega k m^{2}\\right)} P\\left(s\\right) = 0$"
      ],
      "text/plain": [
       "(-2*I*k*m*P(s) + (I*k^2*s^2 + I*m^2)*T(s))*ω + 2*(-I*Omega*k^3*s^2 - I*Omega*k*m^2)*P(s) == 0"
      ]
     },
     "metadata": {},
     "output_type": "display_data"
    }
   ],
   "source": [
    "NS_1_eq = (NS_1.expr() == 0)*exp(-I*k*z)*exp(-I*m*ph)*exp(-I*ω*t)*s**2\n",
    "NS_1_eq.full_simplify().show()"
   ]
  },
  {
   "cell_type": "code",
   "execution_count": 16,
   "id": "7fc7d839-f5f7-4791-a94b-e2adb4c666f5",
   "metadata": {},
   "outputs": [
    {
     "data": {
      "text/html": [
       "<html>\\(\\displaystyle \\frac{4 i \\, \\Omega k^{2} m s^{2} P\\left(s\\right) + {\\left(-2 i \\, k m s^{2} T\\left(s\\right) - {\\left(-i \\, k^{4} s^{4} - i \\, m^{4} + {\\left(-2 i \\, k^{2} m^{2} - i \\, k^{2}\\right)} s^{2} + i \\, m^{2}\\right)} P\\left(s\\right) - {\\left(i \\, k^{2} s^{3} - i \\, m^{2} s\\right)} \\frac{\\partial}{\\partial s}P\\left(s\\right) - {\\left(i \\, k^{2} s^{4} + i \\, m^{2} s^{2}\\right)} \\frac{\\partial^{2}}{(\\partial s)^{2}}P\\left(s\\right)\\right)} ω - 2 \\, {\\left(i \\, \\Omega k^{3} s^{4} + i \\, \\Omega k m^{2} s^{2}\\right)} T\\left(s\\right)}{s^{2}} = 0\\)</html>"
      ],
      "text/latex": [
       "$\\displaystyle \\frac{4 i \\, \\Omega k^{2} m s^{2} P\\left(s\\right) + {\\left(-2 i \\, k m s^{2} T\\left(s\\right) - {\\left(-i \\, k^{4} s^{4} - i \\, m^{4} + {\\left(-2 i \\, k^{2} m^{2} - i \\, k^{2}\\right)} s^{2} + i \\, m^{2}\\right)} P\\left(s\\right) - {\\left(i \\, k^{2} s^{3} - i \\, m^{2} s\\right)} \\frac{\\partial}{\\partial s}P\\left(s\\right) - {\\left(i \\, k^{2} s^{4} + i \\, m^{2} s^{2}\\right)} \\frac{\\partial^{2}}{(\\partial s)^{2}}P\\left(s\\right)\\right)} ω - 2 \\, {\\left(i \\, \\Omega k^{3} s^{4} + i \\, \\Omega k m^{2} s^{2}\\right)} T\\left(s\\right)}{s^{2}} = 0$"
      ],
      "text/plain": [
       "(4*I*Omega*k^2*m*s^2*P(s) + (-2*I*k*m*s^2*T(s) - (-I*k^4*s^4 - I*m^4 + (-2*I*k^2*m^2 - I*k^2)*s^2 + I*m^2)*P(s) - (I*k^2*s^3 - I*m^2*s)*diff(P(s), s) - (I*k^2*s^4 + I*m^2*s^2)*diff(P(s), s, s))*ω - 2*(I*Omega*k^3*s^4 + I*Omega*k*m^2*s^2)*T(s))/s^2 == 0"
      ]
     },
     "metadata": {},
     "output_type": "display_data"
    }
   ],
   "source": [
    "NS_2_eq = (NS_2.expr() == 0)*exp(-I*k*z)*exp(-I*m*ph)*exp(-I*ω*t)*s**2\n",
    "NS_2_eq.full_simplify().show()"
   ]
  },
  {
   "cell_type": "markdown",
   "id": "9f8186b3-2ab8-495c-8def-52da0e283145",
   "metadata": {},
   "source": [
    "\\begin{equation}\n",
    "A(s) \\begin{bmatrix}\n",
    "T(s) \\\\\n",
    "P(s) \\end{bmatrix} \n",
    "= \\omega B(s)\n",
    "\\begin{bmatrix}\n",
    "T(s) \\\\\n",
    "P(s) \\end{bmatrix}\n",
    "\\end{equation}\n",
    "\n",
    "\n",
    "\\begin{equation}\n",
    "\\begin{bmatrix}\n",
    "0 & -2(i \\Omega k^3 s^2 + i \\Omega k m^2) \\\\\n",
    "-2(i \\Omega k^{3} s^{2} + i \\Omega k m^{2}) & -4i \\Omega k^2 m \\\\\n",
    "\\end{bmatrix}\n",
    "\\begin{bmatrix}\n",
    "T(s) \\\\\n",
    "P(s) \\end{bmatrix}\n",
    "= \\omega \n",
    "\\begin{bmatrix}\n",
    "i(k^2 s^2 + m^2) & 2 i k m \\\\\n",
    "2 i k m &\n",
    "\\dfrac{-(-i k^4 s^4 - i m^4 + (-2 i k^2 m^2 - i k^2) s^2 + i m^2) - (i k^2 s^3 - i m^2 s) \\dfrac{\\partial}{\\partial s} - (i k^2 s^4 + i m^2 s^2) \\dfrac{\\partial ^2}{\\partial s^2}}{s^2}\n",
    "\\end{bmatrix}\n",
    "\\begin{bmatrix}\n",
    "T(s) \\\\\n",
    "P(s) \\end{bmatrix}\n",
    "\\end{equation}\n"
   ]
  },
  {
   "cell_type": "markdown",
   "id": "30d1d348-2caa-46ae-ac59-49fbcbb5f5f8",
   "metadata": {
    "jp-MarkdownHeadingCollapsed": true,
    "tags": []
   },
   "source": [
    "## 3. Greenspan's solution : $B_0 = 0$"
   ]
  },
  {
   "cell_type": "markdown",
   "id": "1aed1661-18f3-4253-8a84-c46b8390a49f",
   "metadata": {},
   "source": [
    "We need to find the solutions $\\xi$ of the equation:\n",
    "\\begin{equation}\n",
    "    \\xi\\frac{d}{d\\xi}J_{\\lvert m \\rvert}(\\xi) + m\\left( 1 + \\frac{\\xi^2 h^2}{n_{ax}^2\\pi^2 a^2}\\right)^{1/2} J_{\\lvert m \\rvert}(\\xi) = 0\n",
    "\\end{equation}\n",
    "With the corresponding eigenvalues : \n",
    "\\begin{equation}\n",
    "    \\lambda_{knm} = 2 \\left( 1 + \\frac{\\xi^2_{knm}h^2}{n_{ax}^2\\pi^2 a^2}\\right)^{-1/2}\n",
    "\\end{equation}"
   ]
  },
  {
   "cell_type": "markdown",
   "id": "bc3562af-d9ed-4272-b7d9-64bdeffa382e",
   "metadata": {
    "tags": []
   },
   "source": [
    "#### Numerical resolution of Greenspan's equation"
   ]
  },
  {
   "cell_type": "code",
   "execution_count": null,
   "id": "392ddaf4-4578-4862-8845-b5ee7152636b",
   "metadata": {},
   "outputs": [],
   "source": [
    "import numpy as np\n",
    "import matplotlib.pyplot as plt\n",
    "from scipy.special import jv, jvp\n",
    "from scipy.optimize import root_scalar\n",
    "\n",
    "# Function to solve\n",
    "def equation(xi):\n",
    "    Jm = jv(abs(m), xi)\n",
    "    dJm_dxi = jvp(abs(m), xi, n=1)\n",
    "    factor = np.sqrt(1 + (xi**2 * h**2) / (n_axial**2 * np.pi**2 * a**2))\n",
    "    return xi * dJm_dxi + m * factor * Jm\n",
    "\n",
    "# Searching for roots\n",
    "xi_vals = np.linspace(0.0001, 200, 1000)\n",
    "f_vals = [equation(xi) for xi in xi_vals]\n",
    "\n",
    "# Plots\n",
    "plt.figure(figsize=(8, 4))\n",
    "plt.plot(xi_vals, f_vals)\n",
    "plt.axhline(0, color='gray', linestyle='-.')\n",
    "plt.xlabel(r\"$\\xi$\")\n",
    "plt.ylabel(r\"$f(\\xi)$\")\n",
    "plt.title(rf\"Pour $k={k:.3}$, $m={m}$, $n={n_axial}$, $h={h}$\")\n",
    "plt.grid(True)\n",
    "plt.show()\n",
    "\n",
    "# Roots detection\n",
    "roots = []\n",
    "for i in range(len(xi_vals) - 1):\n",
    "    if f_vals[i] * f_vals[i+1] < 0:\n",
    "        try:\n",
    "            sol = root_scalar(equation, bracket=[xi_vals[i], xi_vals[i+1]], method='brentq')\n",
    "            roots.append(sol.root)\n",
    "        except:\n",
    "            pass\n",
    "\n",
    "# lambda_{knm} calculation\n",
    "def lambda_knm(xi):\n",
    "    return 2 / np.sqrt(1 + (xi**2 * h**2) / (n_axial**2 * np.pi**2 * a**2))\n",
    "\n",
    "roots = roots[:50]  # 50 first values\n",
    "lambdas = [lambda_knm(xi) for xi in roots]\n",
    "\n",
    "# Results\n",
    "print(\"\\nValeurs de ξ et λ correspondantes :\")\n",
    "for i, (xi_val, lambda_val) in enumerate(zip(roots[:5], lambdas[:5])):\n",
    "    print(rf\"ξ_{i+1} = {xi_val:.6f}   ->   λ_{i+1} = {lambda_val:.6f}\")\n"
   ]
  },
  {
   "cell_type": "markdown",
   "id": "86b60049-f27c-481f-bb4d-f3d8f2a5809a",
   "metadata": {
    "jp-MarkdownHeadingCollapsed": true,
    "tags": []
   },
   "source": [
    "## 4. Magnetohydrodynamic"
   ]
  },
  {
   "cell_type": "markdown",
   "id": "6d3f5214-60e2-432a-8004-63a39986f3a7",
   "metadata": {
    "tags": []
   },
   "source": [
    "### Magnetic field"
   ]
  },
  {
   "cell_type": "code",
   "execution_count": 19,
   "id": "4f578c20-47c7-4e73-8cad-3bd43458b3b7",
   "metadata": {},
   "outputs": [
    {
     "data": {
      "text/html": [
       "<html>\\(\\displaystyle \\mathrm{curl}\\left( G \\cdot e_{ s } \\right) + \\mathrm{curl}\\left( \\mathrm{curl}\\left( F \\cdot e_{ s } \\right) \\right) = \\frac{{\\left(k^{2} s^{2} e^{\\left(i \\, m {\\phi}\\right)} + m^{2} e^{\\left(i \\, m {\\phi}\\right)}\\right)} F\\left(s\\right) e^{\\left(i \\, k z + i \\, t ω\\right)}}{s^{2}} e_{ s } + \\frac{{\\left(i \\, k s^{2} G\\left(s\\right) e^{\\left(i \\, m {\\phi}\\right)} + i \\, m s e^{\\left(i \\, m {\\phi}\\right)} \\frac{\\partial\\,F}{\\partial s} - i \\, m F\\left(s\\right) e^{\\left(i \\, m {\\phi}\\right)}\\right)} e^{\\left(i \\, k z + i \\, t ω\\right)}}{s^{2}} e_{ {\\phi} } + \\frac{{\\left(i \\, k s e^{\\left(i \\, m {\\phi}\\right)} \\frac{\\partial\\,F}{\\partial s} + i \\, k F\\left(s\\right) e^{\\left(i \\, m {\\phi}\\right)} - i \\, m G\\left(s\\right) e^{\\left(i \\, m {\\phi}\\right)}\\right)} e^{\\left(i \\, k z + i \\, t ω\\right)}}{s} e_{ z }\\)</html>"
      ],
      "text/latex": [
       "$\\displaystyle \\mathrm{curl}\\left( G \\cdot e_{ s } \\right) + \\mathrm{curl}\\left( \\mathrm{curl}\\left( F \\cdot e_{ s } \\right) \\right) = \\frac{{\\left(k^{2} s^{2} e^{\\left(i \\, m {\\phi}\\right)} + m^{2} e^{\\left(i \\, m {\\phi}\\right)}\\right)} F\\left(s\\right) e^{\\left(i \\, k z + i \\, t ω\\right)}}{s^{2}} e_{ s } + \\frac{{\\left(i \\, k s^{2} G\\left(s\\right) e^{\\left(i \\, m {\\phi}\\right)} + i \\, m s e^{\\left(i \\, m {\\phi}\\right)} \\frac{\\partial\\,F}{\\partial s} - i \\, m F\\left(s\\right) e^{\\left(i \\, m {\\phi}\\right)}\\right)} e^{\\left(i \\, k z + i \\, t ω\\right)}}{s^{2}} e_{ {\\phi} } + \\frac{{\\left(i \\, k s e^{\\left(i \\, m {\\phi}\\right)} \\frac{\\partial\\,F}{\\partial s} + i \\, k F\\left(s\\right) e^{\\left(i \\, m {\\phi}\\right)} - i \\, m G\\left(s\\right) e^{\\left(i \\, m {\\phi}\\right)}\\right)} e^{\\left(i \\, k z + i \\, t ω\\right)}}{s} e_{ z }$"
      ],
      "text/plain": [
       "curl(G*e_s)+curl(curl(F*e_s)) = (k^2*s^2*e^(I*m*ph) + m^2*e^(I*m*ph))*F(s)*e^(I*k*z + I*t*ω)/s^2 e_s + (I*k*s^2*G(s)*e^(I*m*ph) + I*m*s*e^(I*m*ph)*d(F)/ds - I*m*F(s)*e^(I*m*ph))*e^(I*k*z + I*t*ω)/s^2 e_ph + (I*k*s*e^(I*m*ph)*d(F)/ds + I*k*F(s)*e^(I*m*ph) - I*m*G(s)*e^(I*m*ph))*e^(I*k*z + I*t*ω)/s e_z"
      ]
     },
     "execution_count": 19,
     "metadata": {},
     "output_type": "execute_result"
    }
   ],
   "source": [
    "b = curl(G*e_s) + curl(curl(F*e_s))\n",
    "b.display()"
   ]
  },
  {
   "cell_type": "code",
   "execution_count": 20,
   "id": "0e8a7bd5-e9da-471d-b0ea-134bd1b59c2e",
   "metadata": {},
   "outputs": [
    {
     "data": {
      "text/html": [
       "<html>\\(\\displaystyle \\begin{array}{llcl} { e_{ s } }\\cdot{ \\mathrm{curl}\\left( G \\cdot e_{ s } \\right) + \\mathrm{curl}\\left( \\mathrm{curl}\\left( F \\cdot e_{ s } \\right) \\right) } : & \\mathbb{E}^{3} & \\longrightarrow & \\mathbb{R} \\\\ & \\left(s, {\\phi}, z\\right) & \\longmapsto & \\frac{{\\left(k^{2} s^{2} e^{\\left(i \\, m {\\phi}\\right)} + m^{2} e^{\\left(i \\, m {\\phi}\\right)}\\right)} F\\left(s\\right) e^{\\left(i \\, k z + i \\, t ω\\right)}}{s^{2}} \\end{array}\\)</html>"
      ],
      "text/latex": [
       "$\\displaystyle \\begin{array}{llcl} { e_{ s } }\\cdot{ \\mathrm{curl}\\left( G \\cdot e_{ s } \\right) + \\mathrm{curl}\\left( \\mathrm{curl}\\left( F \\cdot e_{ s } \\right) \\right) } : & \\mathbb{E}^{3} & \\longrightarrow & \\mathbb{R} \\\\ & \\left(s, {\\phi}, z\\right) & \\longmapsto & \\frac{{\\left(k^{2} s^{2} e^{\\left(i \\, m {\\phi}\\right)} + m^{2} e^{\\left(i \\, m {\\phi}\\right)}\\right)} F\\left(s\\right) e^{\\left(i \\, k z + i \\, t ω\\right)}}{s^{2}} \\end{array}$"
      ],
      "text/plain": [
       "e_s.curl(G*e_s)+curl(curl(F*e_s)): E^3 → ℝ\n",
       "   (s, ph, z) ↦ (k^2*s^2*e^(I*m*ph) + m^2*e^(I*m*ph))*F(s)*e^(I*k*z + I*t*ω)/s^2"
      ]
     },
     "execution_count": 20,
     "metadata": {},
     "output_type": "execute_result"
    }
   ],
   "source": [
    "b_s = e_s.dot(b)\n",
    "b_s.display()"
   ]
  },
  {
   "cell_type": "code",
   "execution_count": 20,
   "id": "8c2a4baf-e120-432a-840f-dee2ee3d9d1b",
   "metadata": {},
   "outputs": [],
   "source": [
    "dt_b = I*ω*b"
   ]
  },
  {
   "cell_type": "code",
   "execution_count": 21,
   "id": "9818639d-a9a2-4916-810e-423490a62ae0",
   "metadata": {},
   "outputs": [
    {
     "data": {
      "text/html": [
       "<html>\\(\\displaystyle \\begin{array}{llcl} & \\mathbb{E}^{3} & \\longrightarrow & \\mathbb{R} \\\\ & \\left(s, {\\phi}, z\\right) & \\longmapsto & \\frac{{\\left(i \\, k^{2} s^{2} e^{\\left(i \\, m {\\phi}\\right)} + i \\, m^{2} e^{\\left(i \\, m {\\phi}\\right)}\\right)} ω F\\left(s\\right) e^{\\left(i \\, k z + i \\, t ω\\right)}}{s^{2}} \\end{array}\\)</html>"
      ],
      "text/latex": [
       "$\\displaystyle \\begin{array}{llcl} & \\mathbb{E}^{3} & \\longrightarrow & \\mathbb{R} \\\\ & \\left(s, {\\phi}, z\\right) & \\longmapsto & \\frac{{\\left(i \\, k^{2} s^{2} e^{\\left(i \\, m {\\phi}\\right)} + i \\, m^{2} e^{\\left(i \\, m {\\phi}\\right)}\\right)} ω F\\left(s\\right) e^{\\left(i \\, k z + i \\, t ω\\right)}}{s^{2}} \\end{array}$"
      ],
      "text/plain": [
       "E^3 → ℝ\n",
       "(s, ph, z) ↦ (I*k^2*s^2*e^(I*m*ph) + I*m^2*e^(I*m*ph))*ω*F(s)*e^(I*k*z + I*t*ω)/s^2"
      ]
     },
     "execution_count": 21,
     "metadata": {},
     "output_type": "execute_result"
    }
   ],
   "source": [
    "dt_b_s = e_s.dot(dt_b)\n",
    "dt_b_s.display()"
   ]
  },
  {
   "cell_type": "markdown",
   "id": "fade4a83-e8f1-411d-83fe-58be4df639d2",
   "metadata": {
    "tags": []
   },
   "source": [
    "### Equations of motion"
   ]
  },
  {
   "cell_type": "markdown",
   "id": "1473c065-3ee9-437f-9066-06e2f9714b6c",
   "metadata": {},
   "source": [
    "#### Magnetic tension"
   ]
  },
  {
   "cell_type": "markdown",
   "id": "7adbb0e1-03df-4d57-91c0-7271575f92c0",
   "metadata": {},
   "source": [
    "We need to calculate $\\nabla \\times (ikB_0 \\vec{b})\\lvert_s$ and $\\nabla \\times (\\nabla \\times ikB_0 \\vec{b})\\lvert_s$ to add to the N-S equations."
   ]
  },
  {
   "cell_type": "code",
   "execution_count": 34,
   "id": "83658e4c-63f9-4a36-a30b-6a638ef6e7af",
   "metadata": {},
   "outputs": [],
   "source": [
    "MHD_1 = NS_1 - (1/mu*rho)*e_s.dot(curl(I*k*B0*b))"
   ]
  },
  {
   "cell_type": "code",
   "execution_count": 37,
   "id": "7239cb85-bd2a-40d0-a77a-95e14242b773",
   "metadata": {},
   "outputs": [
    {
     "data": {
      "text/html": [
       "<html>\\(\\displaystyle \\frac{2 i \\, B_{0} k^{2} m \\rho F\\left(s\\right) + {\\left(-2 i \\, k m \\mu P\\left(s\\right) + {\\left(i \\, k^{2} \\mu s^{2} + i \\, m^{2} \\mu\\right)} T\\left(s\\right)\\right)} ω + {\\left(-i \\, B_{0} k^{3} \\rho s^{2} - i \\, B_{0} k m^{2} \\rho\\right)} G\\left(s\\right) + 2 \\, {\\left(-i \\, \\Omega k^{3} \\mu s^{2} - i \\, \\Omega k m^{2} \\mu\\right)} P\\left(s\\right)}{\\mu} = 0\\)</html>"
      ],
      "text/latex": [
       "$\\displaystyle \\frac{2 i \\, B_{0} k^{2} m \\rho F\\left(s\\right) + {\\left(-2 i \\, k m \\mu P\\left(s\\right) + {\\left(i \\, k^{2} \\mu s^{2} + i \\, m^{2} \\mu\\right)} T\\left(s\\right)\\right)} ω + {\\left(-i \\, B_{0} k^{3} \\rho s^{2} - i \\, B_{0} k m^{2} \\rho\\right)} G\\left(s\\right) + 2 \\, {\\left(-i \\, \\Omega k^{3} \\mu s^{2} - i \\, \\Omega k m^{2} \\mu\\right)} P\\left(s\\right)}{\\mu} = 0$"
      ],
      "text/plain": [
       "(2*I*B0*k^2*m*rho*F(s) + (-2*I*k*m*mu*P(s) + (I*k^2*mu*s^2 + I*m^2*mu)*T(s))*ω + (-I*B0*k^3*rho*s^2 - I*B0*k*m^2*rho)*G(s) + 2*(-I*Omega*k^3*mu*s^2 - I*Omega*k*m^2*mu)*P(s))/mu == 0"
      ]
     },
     "metadata": {},
     "output_type": "display_data"
    }
   ],
   "source": [
    "MHD_1_eq = (MHD_1.expr() == 0)*exp(-I*k*z)*exp(-I*m*ph)*exp(-I*ω*t)*s**2\n",
    "MHD_1_eq.full_simplify().show()"
   ]
  },
  {
   "cell_type": "code",
   "execution_count": 35,
   "id": "754b8609-318e-48c8-8f34-90886cf92685",
   "metadata": {},
   "outputs": [],
   "source": [
    "MHD_2 = NS_2 - (1/mu*rho)*e_s.dot(curl(curl(I*k*B0*b)))"
   ]
  },
  {
   "cell_type": "code",
   "execution_count": 38,
   "id": "ae7f530d-80d8-4c33-adf3-6ea9e67e4b53",
   "metadata": {},
   "outputs": [
    {
     "data": {
      "text/html": [
       "<html>\\(\\displaystyle \\frac{2 i \\, B_{0} k^{2} m \\rho s^{2} G\\left(s\\right) + 4 i \\, \\Omega k^{2} m \\mu s^{2} P\\left(s\\right) + {\\left(-2 i \\, k m \\mu s^{2} T\\left(s\\right) - {\\left(-i \\, k^{4} \\mu s^{4} + {\\left(-2 i \\, k^{2} m^{2} - i \\, k^{2}\\right)} \\mu s^{2} + {\\left(-i \\, m^{4} + i \\, m^{2}\\right)} \\mu\\right)} P\\left(s\\right) - {\\left(i \\, k^{2} \\mu s^{3} - i \\, m^{2} \\mu s\\right)} \\frac{\\partial}{\\partial s}P\\left(s\\right) - {\\left(i \\, k^{2} \\mu s^{4} + i \\, m^{2} \\mu s^{2}\\right)} \\frac{\\partial^{2}}{(\\partial s)^{2}}P\\left(s\\right)\\right)} ω - {\\left(i \\, B_{0} k^{5} \\rho s^{4} + {\\left(2 i \\, B_{0} k^{3} m^{2} + i \\, B_{0} k^{3}\\right)} \\rho s^{2} + {\\left(i \\, B_{0} k m^{4} - i \\, B_{0} k m^{2}\\right)} \\rho\\right)} F\\left(s\\right) - 2 \\, {\\left(i \\, \\Omega k^{3} \\mu s^{4} + i \\, \\Omega k m^{2} \\mu s^{2}\\right)} T\\left(s\\right) - {\\left(-i \\, B_{0} k^{3} \\rho s^{3} + i \\, B_{0} k m^{2} \\rho s\\right)} \\frac{\\partial}{\\partial s}F\\left(s\\right) - {\\left(-i \\, B_{0} k^{3} \\rho s^{4} - i \\, B_{0} k m^{2} \\rho s^{2}\\right)} \\frac{\\partial^{2}}{(\\partial s)^{2}}F\\left(s\\right)}{\\mu s^{2}} = 0\\)</html>"
      ],
      "text/latex": [
       "$\\displaystyle \\frac{2 i \\, B_{0} k^{2} m \\rho s^{2} G\\left(s\\right) + 4 i \\, \\Omega k^{2} m \\mu s^{2} P\\left(s\\right) + {\\left(-2 i \\, k m \\mu s^{2} T\\left(s\\right) - {\\left(-i \\, k^{4} \\mu s^{4} + {\\left(-2 i \\, k^{2} m^{2} - i \\, k^{2}\\right)} \\mu s^{2} + {\\left(-i \\, m^{4} + i \\, m^{2}\\right)} \\mu\\right)} P\\left(s\\right) - {\\left(i \\, k^{2} \\mu s^{3} - i \\, m^{2} \\mu s\\right)} \\frac{\\partial}{\\partial s}P\\left(s\\right) - {\\left(i \\, k^{2} \\mu s^{4} + i \\, m^{2} \\mu s^{2}\\right)} \\frac{\\partial^{2}}{(\\partial s)^{2}}P\\left(s\\right)\\right)} ω - {\\left(i \\, B_{0} k^{5} \\rho s^{4} + {\\left(2 i \\, B_{0} k^{3} m^{2} + i \\, B_{0} k^{3}\\right)} \\rho s^{2} + {\\left(i \\, B_{0} k m^{4} - i \\, B_{0} k m^{2}\\right)} \\rho\\right)} F\\left(s\\right) - 2 \\, {\\left(i \\, \\Omega k^{3} \\mu s^{4} + i \\, \\Omega k m^{2} \\mu s^{2}\\right)} T\\left(s\\right) - {\\left(-i \\, B_{0} k^{3} \\rho s^{3} + i \\, B_{0} k m^{2} \\rho s\\right)} \\frac{\\partial}{\\partial s}F\\left(s\\right) - {\\left(-i \\, B_{0} k^{3} \\rho s^{4} - i \\, B_{0} k m^{2} \\rho s^{2}\\right)} \\frac{\\partial^{2}}{(\\partial s)^{2}}F\\left(s\\right)}{\\mu s^{2}} = 0$"
      ],
      "text/plain": [
       "(2*I*B0*k^2*m*rho*s^2*G(s) + 4*I*Omega*k^2*m*mu*s^2*P(s) + (-2*I*k*m*mu*s^2*T(s) - (-I*k^4*mu*s^4 + (-2*I*k^2*m^2 - I*k^2)*mu*s^2 + (-I*m^4 + I*m^2)*mu)*P(s) - (I*k^2*mu*s^3 - I*m^2*mu*s)*diff(P(s), s) - (I*k^2*mu*s^4 + I*m^2*mu*s^2)*diff(P(s), s, s))*ω - (I*B0*k^5*rho*s^4 + (2*I*B0*k^3*m^2 + I*B0*k^3)*rho*s^2 + (I*B0*k*m^4 - I*B0*k*m^2)*rho)*F(s) - 2*(I*Omega*k^3*mu*s^4 + I*Omega*k*m^2*mu*s^2)*T(s) - (-I*B0*k^3*rho*s^3 + I*B0*k*m^2*rho*s)*diff(F(s), s) - (-I*B0*k^3*rho*s^4 - I*B0*k*m^2*rho*s^2)*diff(F(s), s, s))/(mu*s^2) == 0"
      ]
     },
     "metadata": {},
     "output_type": "display_data"
    }
   ],
   "source": [
    "MHD_2_eq = (MHD_2.expr() == 0)*exp(-I*k*z)*exp(-I*m*ph)*exp(-I*ω*t)*s**2\n",
    "MHD_2_eq.full_simplify().show()"
   ]
  },
  {
   "cell_type": "markdown",
   "id": "6322078f-bc3d-4f02-b2f7-f162cc742bbe",
   "metadata": {
    "tags": []
   },
   "source": [
    "### Ideal induction"
   ]
  },
  {
   "cell_type": "markdown",
   "id": "a152cce5-a399-4321-9339-e76f024649e2",
   "metadata": {},
   "source": [
    "\\begin{equation}\n",
    "    \\frac{\\partial}{\\partial t}\\vec{b}  = \\left( \\vec{B}_0 \\cdot \\nabla\\right)\\vec{v}\n",
    "\\end{equation}"
   ]
  },
  {
   "cell_type": "code",
   "execution_count": 23,
   "id": "026d8001-69dc-4903-b338-259eca86247f",
   "metadata": {},
   "outputs": [
    {
     "data": {
      "text/html": [
       "<html>\\(\\displaystyle \\begin{array}{llcl} & \\mathbb{E}^{3} & \\longrightarrow & \\mathbb{R} \\\\ & \\left(s, {\\phi}, z\\right) & \\longmapsto & \\frac{{\\left({\\left(i \\, k^{2} s^{2} e^{\\left(i \\, m {\\phi}\\right)} + i \\, m^{2} e^{\\left(i \\, m {\\phi}\\right)}\\right)} ω F\\left(s\\right) e^{\\left(i \\, k z\\right)} + {\\left(-i \\, B_{0} k^{3} s^{2} e^{\\left(i \\, m {\\phi}\\right)} - i \\, B_{0} k m^{2} e^{\\left(i \\, m {\\phi}\\right)}\\right)} P\\left(s\\right) e^{\\left(i \\, k z\\right)}\\right)} e^{\\left(i \\, t ω\\right)}}{s^{2}} \\end{array}\\)</html>"
      ],
      "text/latex": [
       "$\\displaystyle \\begin{array}{llcl} & \\mathbb{E}^{3} & \\longrightarrow & \\mathbb{R} \\\\ & \\left(s, {\\phi}, z\\right) & \\longmapsto & \\frac{{\\left({\\left(i \\, k^{2} s^{2} e^{\\left(i \\, m {\\phi}\\right)} + i \\, m^{2} e^{\\left(i \\, m {\\phi}\\right)}\\right)} ω F\\left(s\\right) e^{\\left(i \\, k z\\right)} + {\\left(-i \\, B_{0} k^{3} s^{2} e^{\\left(i \\, m {\\phi}\\right)} - i \\, B_{0} k m^{2} e^{\\left(i \\, m {\\phi}\\right)}\\right)} P\\left(s\\right) e^{\\left(i \\, k z\\right)}\\right)} e^{\\left(i \\, t ω\\right)}}{s^{2}} \\end{array}$"
      ],
      "text/plain": [
       "E^3 → ℝ\n",
       "(s, ph, z) ↦ ((I*k^2*s^2*e^(I*m*ph) + I*m^2*e^(I*m*ph))*ω*F(s)*e^(I*k*z) + (-I*B0*k^3*s^2*e^(I*m*ph) - I*B0*k*m^2*e^(I*m*ph))*P(s)*e^(I*k*z))*e^(I*t*ω)/s^2"
      ]
     },
     "execution_count": 23,
     "metadata": {},
     "output_type": "execute_result"
    }
   ],
   "source": [
    "Ind_1 = e_s.dot(dt_b - B0*I*k*v)\n",
    "Ind_1.display()"
   ]
  },
  {
   "cell_type": "code",
   "execution_count": 29,
   "id": "d6c4b8a2-6e2f-409a-951d-4e20f56a1b9d",
   "metadata": {},
   "outputs": [
    {
     "data": {
      "text/html": [
       "<html>\\(\\displaystyle {\\left(i \\, k^{2} s^{2} + i \\, m^{2}\\right)} ω F\\left(s\\right) + {\\left(-i \\, B_{0} k^{3} s^{2} - i \\, B_{0} k m^{2}\\right)} P\\left(s\\right) = 0\\)</html>"
      ],
      "text/latex": [
       "$\\displaystyle {\\left(i \\, k^{2} s^{2} + i \\, m^{2}\\right)} ω F\\left(s\\right) + {\\left(-i \\, B_{0} k^{3} s^{2} - i \\, B_{0} k m^{2}\\right)} P\\left(s\\right) = 0$"
      ],
      "text/plain": [
       "(I*k^2*s^2 + I*m^2)*ω*F(s) + (-I*B0*k^3*s^2 - I*B0*k*m^2)*P(s) == 0"
      ]
     },
     "metadata": {},
     "output_type": "display_data"
    }
   ],
   "source": [
    "Ind_1_eq = (Ind_1.expr() == 0)*exp(-I*k*z)*exp(-I*m*ph)*exp(-I*ω*t)*s**2\n",
    "Ind_1_eq.full_simplify().show()"
   ]
  },
  {
   "cell_type": "code",
   "execution_count": 24,
   "id": "012365a8-468f-482c-b8cb-9c0e391bc7ce",
   "metadata": {},
   "outputs": [
    {
     "data": {
      "text/html": [
       "<html>\\(\\displaystyle \\begin{array}{llcl} & \\mathbb{E}^{3} & \\longrightarrow & \\mathbb{R} \\\\ & \\left(s, {\\phi}, z\\right) & \\longmapsto & -\\frac{{\\left({\\left(2 i \\, k m F\\left(s\\right) e^{\\left(i \\, m {\\phi}\\right)} + {\\left(-i \\, k^{2} s^{2} e^{\\left(i \\, m {\\phi}\\right)} - i \\, m^{2} e^{\\left(i \\, m {\\phi}\\right)}\\right)} G\\left(s\\right)\\right)} ω e^{\\left(i \\, k z\\right)} + {\\left(-2 i \\, B_{0} k^{2} m P\\left(s\\right) e^{\\left(i \\, m {\\phi}\\right)} + {\\left(i \\, B_{0} k^{3} s^{2} e^{\\left(i \\, m {\\phi}\\right)} + i \\, B_{0} k m^{2} e^{\\left(i \\, m {\\phi}\\right)}\\right)} T\\left(s\\right)\\right)} e^{\\left(i \\, k z\\right)}\\right)} e^{\\left(i \\, t ω\\right)}}{s^{2}} \\end{array}\\)</html>"
      ],
      "text/latex": [
       "$\\displaystyle \\begin{array}{llcl} & \\mathbb{E}^{3} & \\longrightarrow & \\mathbb{R} \\\\ & \\left(s, {\\phi}, z\\right) & \\longmapsto & -\\frac{{\\left({\\left(2 i \\, k m F\\left(s\\right) e^{\\left(i \\, m {\\phi}\\right)} + {\\left(-i \\, k^{2} s^{2} e^{\\left(i \\, m {\\phi}\\right)} - i \\, m^{2} e^{\\left(i \\, m {\\phi}\\right)}\\right)} G\\left(s\\right)\\right)} ω e^{\\left(i \\, k z\\right)} + {\\left(-2 i \\, B_{0} k^{2} m P\\left(s\\right) e^{\\left(i \\, m {\\phi}\\right)} + {\\left(i \\, B_{0} k^{3} s^{2} e^{\\left(i \\, m {\\phi}\\right)} + i \\, B_{0} k m^{2} e^{\\left(i \\, m {\\phi}\\right)}\\right)} T\\left(s\\right)\\right)} e^{\\left(i \\, k z\\right)}\\right)} e^{\\left(i \\, t ω\\right)}}{s^{2}} \\end{array}$"
      ],
      "text/plain": [
       "E^3 → ℝ\n",
       "(s, ph, z) ↦ -((2*I*k*m*F(s)*e^(I*m*ph) + (-I*k^2*s^2*e^(I*m*ph) - I*m^2*e^(I*m*ph))*G(s))*ω*e^(I*k*z) + (-2*I*B0*k^2*m*P(s)*e^(I*m*ph) + (I*B0*k^3*s^2*e^(I*m*ph) + I*B0*k*m^2*e^(I*m*ph))*T(s))*e^(I*k*z))*e^(I*t*ω)/s^2"
      ]
     },
     "execution_count": 24,
     "metadata": {},
     "output_type": "execute_result"
    }
   ],
   "source": [
    "Ind_2 = e_s.dot(curl(dt_b - B0*I*k*v))\n",
    "Ind_2.display()"
   ]
  },
  {
   "cell_type": "code",
   "execution_count": 31,
   "id": "7f6e40f5-a75e-4277-bc85-c1e2ae26a900",
   "metadata": {},
   "outputs": [
    {
     "data": {
      "text/html": [
       "<html>\\(\\displaystyle 2 i \\, B_{0} k^{2} m P\\left(s\\right) + {\\left(-2 i \\, k m F\\left(s\\right) + {\\left(i \\, k^{2} s^{2} + i \\, m^{2}\\right)} G\\left(s\\right)\\right)} ω + {\\left(-i \\, B_{0} k^{3} s^{2} - i \\, B_{0} k m^{2}\\right)} T\\left(s\\right) = 0\\)</html>"
      ],
      "text/latex": [
       "$\\displaystyle 2 i \\, B_{0} k^{2} m P\\left(s\\right) + {\\left(-2 i \\, k m F\\left(s\\right) + {\\left(i \\, k^{2} s^{2} + i \\, m^{2}\\right)} G\\left(s\\right)\\right)} ω + {\\left(-i \\, B_{0} k^{3} s^{2} - i \\, B_{0} k m^{2}\\right)} T\\left(s\\right) = 0$"
      ],
      "text/plain": [
       "2*I*B0*k^2*m*P(s) + (-2*I*k*m*F(s) + (I*k^2*s^2 + I*m^2)*G(s))*ω + (-I*B0*k^3*s^2 - I*B0*k*m^2)*T(s) == 0"
      ]
     },
     "metadata": {},
     "output_type": "display_data"
    }
   ],
   "source": [
    "Ind_2_eq = (Ind_2.expr() == 0)*exp(-I*k*z)*exp(-I*m*ph)*exp(-I*ω*t)*s**2\n",
    "Ind_2_eq.full_simplify().show()"
   ]
  },
  {
   "cell_type": "markdown",
   "id": "636a0c36-d469-4240-9330-1b5e96d12553",
   "metadata": {},
   "source": [
    "### Eigenvalue system"
   ]
  },
  {
   "cell_type": "markdown",
   "id": "efc83c60-1a02-4db8-aa03-038738beee9d",
   "metadata": {},
   "source": [
    "\\begin{equation}\n",
    "\\mathcal{A(s)} \\begin{bmatrix}\n",
    "T(s) \\\\\n",
    "P(s) \\\\\n",
    "G(s) \\\\\n",
    "F(s)\n",
    "\\end{bmatrix} \n",
    "= \\omega \\mathcal{B(s)}\n",
    "\\begin{bmatrix}\n",
    "T(s) \\\\\n",
    "P(s) \\\\\n",
    "G(s) \\\\\n",
    "F(s)\n",
    "\\end{bmatrix}\n",
    "\\end{equation}\n",
    "\n",
    "\n",
    "\\begin{equation}\n",
    "\\begin{bmatrix}\n",
    "0 & -2 i \\Omega k (k^2 s^2 + m^2) & - i B_0 \\rho k (k^2 s^2 + m^2) & + 2 i B_0 k^2 m \\rho \\\\\n",
    "0 & 4 i \\Omega k^2 m & \\frac{1}{\\mu s^2} 2 i B_0 k^2 m \\rho s^2 & \\frac{-1}{\\mu s^2} \\left(i B_0 k^5 \\rho s^4 + (2 i B_0 k^3 m^2 + i B_0 k^3) \\rho s^2 + (i B_0 k m^4 - i B_0 k m^2) \\rho\\right) + \\frac{-1}{\\mu s^2} \\left(-i B_0 k^3 \\rho s^3 + i B_0 k m^2 \\rho s\\right) \\frac{d}{ds} + \\frac{-1}{\\mu s^2} \\left(-i B_0 k^3 \\rho s^4 - i B_0 k m^2 \\rho s^2\\right) \\frac{d^2}{ds^2} \\\\\n",
    "0 & -i B_0 k (k^2 s^2 + m^2) & 0 & 0 \\\\\n",
    "-i B_0 k (k^2 s^2 + m^2) & 2 i B_0 k^2 m & 0 & 0\n",
    "\\end{bmatrix}\n",
    "\\begin{bmatrix}\n",
    "T(s) \\\\\n",
    "P(s) \\\\\n",
    "G(s) \\\\\n",
    "F(s)\n",
    "\\end{bmatrix}\n",
    "= \\omega \n",
    "\\begin{bmatrix}\n",
    "i (k^2 s^2 + m^2) & -2 i k m & 0 & 0\\\\\n",
    "-2 i k m & i \\left(k^4 s^2 + (2k^2 m^2 + k^2) + m^4 - m^2\\right) -(i k^2 s + i m^2 1/s) \\frac{d}{ds} - (i k^2 s^2 + i m^2) \\frac{d^2}{ds^2} & 0 & 0 \\\\\n",
    "0 & 0 & 0 & i (k^2 s^2 + m^2) \\\\\n",
    "0 & 0 & i (k^2 s^2 + m^2) & -2 i k m\n",
    "\\end{bmatrix}\n",
    "\\begin{bmatrix}\n",
    "T(s) \\\\\n",
    "P(s) \\\\\n",
    "G(s) \\\\\n",
    "F(s)\n",
    "\\end{bmatrix}\n",
    "\\end{equation}"
   ]
  },
  {
   "cell_type": "markdown",
   "id": "28831a39-a9a1-44bf-8219-547123ffed2d",
   "metadata": {
    "tags": []
   },
   "source": [
    "### Boundary conditions :"
   ]
  },
  {
   "cell_type": "markdown",
   "id": "81a6cf38-8eca-416d-aa96-37ab69188ac1",
   "metadata": {},
   "source": [
    "A magnetic flux tube is surrounded by an external magnetic field $\\mathbf{B}_{ext}$, which can be assumed to be derived from a potential of the same form as toroidal-poloidal fields. That is, we have \n",
    "\\begin{equation}\n",
    "    \\mathbf{B}_{ext} = - \\nabla \\Phi \\,\\ \\text{where} \\,\\ \\Phi = \\tilde{\\Phi}(s) e^{i(m\\varphi + kz + \\omega t)}\n",
    "\\end{equation}\n",
    "Where $\\tilde{\\Phi}$ is again the Fourier amplitude. Since $\\nabla \\cdot \\mathbf{B} = 0$, we can solve\n",
    "\\begin{equation}\n",
    "    \\nabla^2 \\Phi = 0\n",
    "\\end{equation}\n",
    "such that \n",
    "\\begin{equation}\n",
    "    \\Phi = C_1 Y_m (-iks) e^{i(m \\varphi + kz + \\omega t)}\n",
    "\\end{equation}"
   ]
  },
  {
   "cell_type": "code",
   "execution_count": 24,
   "id": "dc0ddc8e-4688-4bec-9a86-00926e915f4e",
   "metadata": {},
   "outputs": [
    {
     "data": {
      "text/html": [
       "<html>\\(\\displaystyle {\\left(k^{2} s^{2} + m^{2}\\right)} F\\left(s\\right)\\)</html>"
      ],
      "text/latex": [
       "$\\displaystyle {\\left(k^{2} s^{2} + m^{2}\\right)} F\\left(s\\right)$"
      ],
      "text/plain": [
       "(k^2*s^2 + m^2)*F(s)"
      ]
     },
     "metadata": {},
     "output_type": "display_data"
    }
   ],
   "source": [
    "bs = e_s.dot(b)*exp(-I*k*z)*exp(-I*m*ph)*exp(-I*ω*t)*s**2\n",
    "bs.expr().full_simplify().show()"
   ]
  },
  {
   "cell_type": "code",
   "execution_count": 50,
   "id": "33c5f4ab-1b62-4b72-9d21-6f81fdf3cfdd",
   "metadata": {},
   "outputs": [
    {
     "data": {
      "text/html": [
       "<html>\\(\\displaystyle i \\, k s^{2} G\\left(s\\right) + i \\, m s \\frac{\\partial}{\\partial s}F\\left(s\\right) - i \\, m F\\left(s\\right)\\)</html>"
      ],
      "text/latex": [
       "$\\displaystyle i \\, k s^{2} G\\left(s\\right) + i \\, m s \\frac{\\partial}{\\partial s}F\\left(s\\right) - i \\, m F\\left(s\\right)$"
      ],
      "text/plain": [
       "I*k*s^2*G(s) + I*m*s*diff(F(s), s) - I*m*F(s)"
      ]
     },
     "metadata": {},
     "output_type": "display_data"
    }
   ],
   "source": [
    "bph = e_ph.dot(b)*exp(-I*k*z)*exp(-I*m*ph)*exp(-I*ω*t)*s**2\n",
    "bph.expr().full_simplify().show()"
   ]
  },
  {
   "cell_type": "code",
   "execution_count": 26,
   "id": "d7202e7c-59ca-4e1b-994d-d2f6268f516f",
   "metadata": {},
   "outputs": [
    {
     "data": {
      "text/html": [
       "<html>\\(\\displaystyle i \\, k s^{2} \\frac{\\partial}{\\partial s}F\\left(s\\right) + i \\, k s F\\left(s\\right) - i \\, m s G\\left(s\\right)\\)</html>"
      ],
      "text/latex": [
       "$\\displaystyle i \\, k s^{2} \\frac{\\partial}{\\partial s}F\\left(s\\right) + i \\, k s F\\left(s\\right) - i \\, m s G\\left(s\\right)$"
      ],
      "text/plain": [
       "I*k*s^2*diff(F(s), s) + I*k*s*F(s) - I*m*s*G(s)"
      ]
     },
     "metadata": {},
     "output_type": "display_data"
    }
   ],
   "source": [
    "bz = e_z.dot(b)*exp(-I*k*z)*exp(-I*m*ph)*exp(-I*ω*t)*s**2\n",
    "bz.expr().full_simplify().show()"
   ]
  },
  {
   "cell_type": "code",
   "execution_count": 1,
   "id": "a072aab4-1e08-4dab-ab8e-96250d88a8a6",
   "metadata": {},
   "outputs": [],
   "source": [
    "F_1, dF_1, G_1, k, m, C = var('F_1 dF_1 G_1 k m C')"
   ]
  },
  {
   "cell_type": "code",
   "execution_count": 2,
   "id": "99882f23-cede-4214-9eff-ed9186de418a",
   "metadata": {},
   "outputs": [
    {
     "data": {
      "text/html": [
       "<html>\\(\\displaystyle \\Phi\\left(s\\right) = C_{1} Y_{m}(-i \\, k s)\\)</html>"
      ],
      "text/latex": [
       "$\\displaystyle \\Phi\\left(s\\right) = C_{1} Y_{m}(-i \\, k s)$"
      ],
      "text/plain": [
       "Phi(s) == C1*bessel_Y(m, -I*k*s)"
      ]
     },
     "execution_count": 13,
     "metadata": {},
     "output_type": "execute_result"
    }
   ],
   "source": [
    "Phi = function('Phi')(s)\n",
    "Phi == C1*bessel_Y(m,-I*k*s)"
   ]
  },
  {
   "cell_type": "code",
   "execution_count": 73,
   "id": "ca0cf43e-be39-4b7b-9ce1-02c62b718d07",
   "metadata": {},
   "outputs": [
    {
     "data": {
      "text/html": [
       "<html>\\(\\displaystyle {\\left(k^{2} s^{2} + m^{2}\\right)} F\\left(s\\right) + C_{1} \\frac{\\partial}{\\partial s}\\Phi\\left(s\\right) = 0\\)</html>"
      ],
      "text/latex": [
       "$\\displaystyle {\\left(k^{2} s^{2} + m^{2}\\right)} F\\left(s\\right) + C_{1} \\frac{\\partial}{\\partial s}\\Phi\\left(s\\right) = 0$"
      ],
      "text/plain": [
       "(k^2*s^2 + m^2)*F(s) + C1*diff(Phi(s), s) == 0"
      ]
     },
     "metadata": {},
     "output_type": "display_data"
    }
   ],
   "source": [
    "eq_s = bs + C1*Phi.diff(s)\n",
    "eq1 = (eq_s.expr() == 0)\n",
    "eq1.show()"
   ]
  },
  {
   "cell_type": "code",
   "execution_count": 17,
   "id": "dbaa3794-498c-4ca4-8de4-8e0f08962715",
   "metadata": {},
   "outputs": [
    {
     "data": {
      "text/html": [
       "<html>\\(\\displaystyle F_{1} = -\\frac{i \\, C k {\\left(Y_{m + 1}(-i \\, k s) - Y_{m - 1}(-i \\, k s)\\right)}}{2 \\, {\\left(k^{2} + m^{2}\\right)}}\\)</html>"
      ],
      "text/latex": [
       "$\\displaystyle F_{1} = -\\frac{i \\, C k {\\left(Y_{m + 1}(-i \\, k s) - Y_{m - 1}(-i \\, k s)\\right)}}{2 \\, {\\left(k^{2} + m^{2}\\right)}}$"
      ],
      "text/plain": [
       "F_1 == -1/2*I*C*k*(bessel_Y(m + 1, -I*k*s) - bessel_Y(m - 1, -I*k*s))/(k^2 + m^2)"
      ]
     },
     "execution_count": 17,
     "metadata": {},
     "output_type": "execute_result"
    }
   ],
   "source": [
    "F_1 == -(C/(k**2 + m**2))*diff(bessel_Y(m,-(I*k)*s),s)"
   ]
  },
  {
   "cell_type": "code",
   "execution_count": 18,
   "id": "f3407ad9-576c-4269-b519-7c90e0bf0d63",
   "metadata": {},
   "outputs": [
    {
     "data": {
      "text/html": [
       "<html>\\(\\displaystyle \\mathit{dF}_{1} = -\\frac{i \\, C k {\\left(Y_{m + 1}(-i \\, k s) - Y_{m - 1}(-i \\, k s)\\right)}}{2 \\, {\\left(k^{2} + m^{2}\\right)}} - C Y_{m}(-i \\, k s)\\)</html>"
      ],
      "text/latex": [
       "$\\displaystyle \\mathit{dF}_{1} = -\\frac{i \\, C k {\\left(Y_{m + 1}(-i \\, k s) - Y_{m - 1}(-i \\, k s)\\right)}}{2 \\, {\\left(k^{2} + m^{2}\\right)}} - C Y_{m}(-i \\, k s)$"
      ],
      "text/plain": [
       "dF_1 == -1/2*I*C*k*(bessel_Y(m + 1, -I*k*s) - bessel_Y(m - 1, -I*k*s))/(k^2 + m^2) - C*bessel_Y(m, -I*k*s)"
      ]
     },
     "execution_count": 18,
     "metadata": {},
     "output_type": "execute_result"
    }
   ],
   "source": [
    "dF_1 == -(C/(k**2 + m**2))*diff(bessel_Y(m,-(I*k)*s),s) - C*(bessel_Y(m,-(I*k)*s))"
   ]
  },
  {
   "cell_type": "code",
   "execution_count": 74,
   "id": "030437a5-5242-4fe8-9939-5db75232f297",
   "metadata": {},
   "outputs": [
    {
     "data": {
      "text/html": [
       "<html>\\(\\displaystyle i \\, k s^{2} G\\left(s\\right) + i \\, m s \\frac{\\partial}{\\partial s}F\\left(s\\right) + i \\, C_{1} m \\frac{\\partial}{\\partial s}\\Phi\\left(s\\right) - i \\, m F\\left(s\\right) = 0\\)</html>"
      ],
      "text/latex": [
       "$\\displaystyle i \\, k s^{2} G\\left(s\\right) + i \\, m s \\frac{\\partial}{\\partial s}F\\left(s\\right) + i \\, C_{1} m \\frac{\\partial}{\\partial s}\\Phi\\left(s\\right) - i \\, m F\\left(s\\right) = 0$"
      ],
      "text/plain": [
       "I*k*s^2*G(s) + I*m*s*diff(F(s), s) + I*C1*m*diff(Phi(s), s) - I*m*F(s) == 0"
      ]
     },
     "metadata": {},
     "output_type": "display_data"
    }
   ],
   "source": [
    "eq_ph = bph + I*m*C1*Phi.diff(s)\n",
    "eq2 = (eq_ph.expr() == 0)\n",
    "eq2.show()"
   ]
  },
  {
   "cell_type": "code",
   "execution_count": 75,
   "id": "90624fec-9a41-4a32-950b-845c7c58e7a9",
   "metadata": {},
   "outputs": [
    {
     "data": {
      "text/html": [
       "<html>\\(\\displaystyle i \\, k s^{2} \\frac{\\partial}{\\partial s}F\\left(s\\right) + i \\, k s F\\left(s\\right) - i \\, m s G\\left(s\\right) + i \\, C_{1} m \\frac{\\partial}{\\partial s}\\Phi\\left(s\\right) = 0\\)</html>"
      ],
      "text/latex": [
       "$\\displaystyle i \\, k s^{2} \\frac{\\partial}{\\partial s}F\\left(s\\right) + i \\, k s F\\left(s\\right) - i \\, m s G\\left(s\\right) + i \\, C_{1} m \\frac{\\partial}{\\partial s}\\Phi\\left(s\\right) = 0$"
      ],
      "text/plain": [
       "I*k*s^2*diff(F(s), s) + I*k*s*F(s) - I*m*s*G(s) + I*C1*m*diff(Phi(s), s) == 0"
      ]
     },
     "metadata": {},
     "output_type": "display_data"
    }
   ],
   "source": [
    "eq_z = bz + I*m*C1*Phi.diff(s)\n",
    "eq3 = (eq_z.expr() == 0)\n",
    "eq3.show()"
   ]
  },
  {
   "cell_type": "markdown",
   "id": "04204956-ca94-4d87-852d-7d1daa7d7981",
   "metadata": {
    "jp-MarkdownHeadingCollapsed": true,
    "tags": []
   },
   "source": [
    "## 5. Lundquist's solution : m = 0, $\\Omega = 0$"
   ]
  },
  {
   "cell_type": "markdown",
   "id": "b50eac13-3b01-46a7-959c-3f7c69816d75",
   "metadata": {},
   "source": [
    "For $m=0$ and $\\Omega \\to 0$, the governing equations reduce to Lundquist’s ideal-MHD model for a cylindrical plasma column. In this model, the radial equation for the perturbation \\(h(s)\\) reads\n",
    "\\begin{equation}\n",
    "\\frac{\\partial^2 h}{\\partial s^2} + \\frac{1}{s} \\frac{\\partial h}{\\partial s} + \\left(k^2 - \\frac{1}{s^2}\\right) h = 0,\n",
    "\\end{equation}\n",
    "whose regular solution at \\(s=0\\) is\n",
    "\\begin{equation}\n",
    "h(s,t,z) = A\\, J_1(k s) \\, e^{i\\omega t + i\\alpha z}.\n",
    "\\end{equation}\n",
    "In the absence of rotation, two independent families of modes exist :\n",
    "\n",
    "**Radial modes :** Obtained from the boundary condition \\(h(a)=0\\), which leads to \n",
    "\\begin{equation}\n",
    "    J_1(k_r a) = 0 \\Rightarrow k_r = \\frac{j_{1,n}}{a}\n",
    "\\end{equation}\n",
    "so that\n",
    "\\begin{equation}\n",
    "    \\omega_{n}^{(\\pm)} = \\pm\\, V_A\\, k_r\n",
    "\\end{equation}\n",
    "**Axial modes :** For which \n",
    "\\begin{equation}\n",
    "    k_r=0 \\,\\ ; k_z =\\frac{n_{\\rm axial} \\pi}{h}\n",
    "\\end{equation}\n",
    "giving \n",
    "\\begin{equation}\n",
    "    \\omega_{n_{\\rm axial}}^{(\\pm)} = \\pm\\, V_A\\, k_z.\n",
    "\\end{equation}"
   ]
  },
  {
   "cell_type": "code",
   "execution_count": 22,
   "id": "b7a9553a-510a-41b3-9876-7c895ac78f51",
   "metadata": {},
   "outputs": [
    {
     "name": "stdout",
     "output_type": "stream",
     "text": [
      "Ideal MHD (Lundquist) eigenfrequencies :\n",
      "                                                                   \n",
      "Alfvén speed V_A = 1.0\n",
      "\n",
      "                                                                   \n",
      "|   n |  omega_L_rad |omega_MCWS_rad|   omega_L_ax | omega_MCWS_ax|\n",
      "-------------------------------------------------------------------\n",
      "|   1 |     3.831706 |     3.834920 |     3.141593 |     3.141590 |\n",
      "|   2 |     7.015587 |     7.192340 |     6.283185 |     6.283190 |\n",
      "|   3 |    10.173468 |    10.395280 |     9.424778 |     9.424780 |\n",
      "|   4 |    13.323692 |    13.558410 |    12.566371 |    12.566370 |\n",
      "|   5 |    16.470630 |    16.708970 |    15.707963 |    15.707960 |\n",
      "|   6 |    19.615859 |    19.854600 |    18.849556 |    18.849570 |\n",
      "|   7 |    22.760084 |    22.998080 |    21.991149 |    21.991150 |\n",
      "|   8 |    25.903672 |    26.140510 |    25.132741 |    25.132770 |\n",
      "|   9 |    29.046829 |    29.282470 |    28.274334 |    28.274340 |\n",
      "|  10 |    32.189680 |    32.424100 |    31.415927 |    31.415930 |\n",
      "\n",
      "MAE_rad = 2.058e-01, MAE_ax = 6.712e-06\n"
     ]
    }
   ],
   "source": [
    "N_l = 10\n",
    "\n",
    "# Alfvén speed\n",
    "V_a = B0 / np.sqrt(mu0 * rho)\n",
    "\n",
    "# Zeros of J1\n",
    "j1_zeros = np.array([float(mp.besseljzero(1, n)) for n in range(1, N_l + 1)])\n",
    "\n",
    "# Axial wavenumber\n",
    "k_z = (np.pi / h) * np.arange(1, N_l + 1, dtype=float)\n",
    "\n",
    "# Eigenfrequencies\n",
    "omega_L_rad = V_a * j1_zeros / a      # radial Lundquist\n",
    "omega_L_ax  = V_a * k_z               # axial Alfvén\n",
    "\n",
    "# previous code results for m = 0 and _rad : \\Omega = 1 ; _ax : \\Omega = 0\n",
    "omega_MCWS_rad = np.array([3.83492, 7.19234, 10.39528, 13.55841, 16.70897,\n",
    "                           19.85460, 22.99808, 26.14051, 29.28247, 32.42410], dtype=float)\n",
    "omega_MCWS_ax  = np.array([3.14159, 6.28319, 9.42478, 12.56637, 15.70796,\n",
    "                           18.84957, 21.99115, 25.13277, 28.27434, 31.41593], dtype=float)\n",
    "\n",
    "print(f\"Ideal MHD (Lundquist) eigenfrequencies :\")\n",
    "print(\" \" * 67)\n",
    "print(f\"Alfvén speed V_A = {float(V_a):.1f}\\n\")\n",
    "print(\" \" * 67)\n",
    "print(r\"|   n |  omega_L_rad |omega_MCWS_rad|   omega_L_ax | omega_MCWS_ax|\")\n",
    "print(\"-\" * 67)\n",
    "for n, olr, omr, ola, oma in zip(range(1, N_l + 1), omega_L_rad, omega_MCWS_rad, omega_L_ax, omega_MCWS_ax):\n",
    "    print(f\"| {n:3d} | {float(olr):12.6f} | {float(omr):12.6f} | {float(ola):12.6f} | {float(oma):12.6f} |\")\n",
    "\n",
    "# Check d’erreur\n",
    "abs_err_rad = omega_MCWS_rad - omega_L_rad\n",
    "abs_err_ax  = omega_MCWS_ax  - omega_L_ax\n",
    "print(\"\\nMAE_rad = {:.3e}, MAE_ax = {:.3e}\".format(np.mean(np.abs(abs_err_rad)), np.mean(np.abs(abs_err_ax))))\n"
   ]
  },
  {
   "cell_type": "markdown",
   "id": "9e7a5d0b-cab1-42b4-bd39-e0e02875fe9f",
   "metadata": {
    "jp-MarkdownHeadingCollapsed": true,
    "tags": []
   },
   "source": [
    "## 6. Cylindrical Magneto-Coriolis Waves Solver"
   ]
  },
  {
   "cell_type": "code",
   "execution_count": 23,
   "id": "622543cc-69cb-47d8-9b53-e4af05552aae",
   "metadata": {},
   "outputs": [
    {
     "name": "stdout",
     "output_type": "stream",
     "text": [
      "-------------------------------------------------------------------\n",
      "                  Cylindrical Magneto-Coriolis Waves           \n",
      "-------------------------------------------------------------------\n",
      "Top 5 eigenvalues for (m, n) = (3, 2) :\n",
      "1. Re(ω) = 7.09419, Im(ω) = 1.37240e-10\n",
      "2. Re(ω) = 6.89876, Im(ω) = -3.18560e-10\n",
      "3. Re(ω) = 6.76792, Im(ω) = 1.96384e-10\n",
      "4. Re(ω) = 6.67933, Im(ω) = 1.51615e-10\n",
      "5. Re(ω) = 6.61673, Im(ω) = -4.45089e-10\n"
     ]
    },
    {
     "data": {
      "image/png": "[encoded data removed]",
      "text/plain": [
       "<Figure size 800x400 with 1 Axes>"
      ]
     },
     "metadata": {},
     "output_type": "display_data"
    },
    {
     "data": {
      "image/png": "[encoded data removed]",
      "text/plain": [
       "<Figure size 1000x600 with 4 Axes>"
      ]
     },
     "metadata": {},
     "output_type": "display_data"
    }
   ],
   "source": [
    "# === USEFUL PACKAGES ===\n",
    "import numpy as np\n",
    "import mpmath as mp\n",
    "import matplotlib.pyplot as plt\n",
    "from scipy.linalg import eig\n",
    "from scipy.special import yv, jv, jvp\n",
    "from scipy.optimize import root_scalar\n",
    "from scipy.interpolate import griddata\n",
    "\n",
    "# === PHYSICAL SITUATION ===\n",
    "solve_mhd = True # True : MHD, False : fluid (B0 = 0)\n",
    "solve_Lundquist = False # True : m = 0 \n",
    "\n",
    "if solve_mhd == True : \n",
    "    if solve_Lundquist == True :\n",
    "        print(\"-\" * 67)\n",
    "        print(\"                    Cylindrical-Alfvèn Waves           \")\n",
    "        print(\"-\" * 67)\n",
    "    else : \n",
    "        print(\"-\" * 67)\n",
    "        print(\"                  Cylindrical Magneto-Coriolis Waves           \")\n",
    "        print(\"-\" * 67)\n",
    "else : \n",
    "    print(\"-\" * 67)\n",
    "    print(\"                    Cylindrical-Inertial Waves           \")\n",
    "    print(\"-\" * 67)\n",
    "    \n",
    "# === PHYSICAL PARAMETERS ===\n",
    "h = 1\n",
    "a = 1\n",
    "n_axial = 2\n",
    "Omega_mass = 1\n",
    "Omega_rot = 0 if solve_Lundquist else Omega_mass\n",
    "mu0 = 1\n",
    "rho = 1\n",
    "m_az = 3\n",
    "B0 = 1 if solve_mhd else 0\n",
    "m = 0 if solve_Lundquist else m_az\n",
    "k = (n_axial * np.pi) / h\n",
    "C = 1 # pour le champ extérieur\n",
    "phi_indices = [0,50]\n",
    "times = [1]\n",
    "\n",
    "# === Solution Greenspan ===\n",
    "# Fonction à résoudre\n",
    "def equation(xi):\n",
    "    Jm = jv(abs(m), xi)\n",
    "    dJm_dxi = jvp(abs(m), xi, n=1)\n",
    "    factor = np.sqrt(1 + (xi**2 * h**2) / (n_axial**2 * np.pi**2 * a**2))\n",
    "    return xi * dJm_dxi + m * factor * Jm\n",
    "\n",
    "# Recherche des racines\n",
    "xi_vals = np.linspace(0.0001, 200, 1000)\n",
    "f_vals = [equation(xi) for xi in xi_vals]\n",
    "\n",
    "# Roots of the function \n",
    "roots = []\n",
    "for i in range(len(xi_vals) - 1):\n",
    "    if f_vals[i] * f_vals[i+1] < 0:\n",
    "        try:\n",
    "            sol = root_scalar(equation, bracket=[xi_vals[i], xi_vals[i+1]], method='brentq')\n",
    "            roots.append(sol.root)\n",
    "        except:\n",
    "            pass\n",
    "\n",
    "# lambda_{knm}\n",
    "def lambda_knm(xi):\n",
    "    return 2 / np.sqrt(1 + (xi**2 * h**2) / (n_axial**2 * np.pi**2 * a**2))\n",
    "\n",
    "roots = roots[:50]  # 50 premières valeurs\n",
    "lambdas = [lambda_knm(xi) for xi in roots]\n",
    "\n",
    "# === Solution de Lundquist ===\n",
    "if solve_Lundquist:\n",
    "    N_l = 10\n",
    "    \n",
    "    # Alfvén speed\n",
    "    V_a = B0 / np.sqrt(mu0 * rho)\n",
    "\n",
    "    # Zeros of J1\n",
    "    j1_zeros = np.array([float(mp.besseljzero(1, n)) for n in range(1, N_l + 1)])\n",
    "\n",
    "    # Axial wavenumber\n",
    "    k_z = (np.pi / h) * np.arange(1, N_l + 1, dtype=float)\n",
    "\n",
    "    # Eigenfrequencies\n",
    "    omega_L_rad = V_a * j1_zeros / a      # radial Lundquist\n",
    "    omega_L_ax  = V_a * k_z               # axial Alfvén\n",
    "else : \n",
    "    pass\n",
    "\n",
    "# === CHEBYSHEV MATRIX ===\n",
    "def cheb_diff(N):\n",
    "    if N == 0:\n",
    "        return np.array([[0]]), np.array([1])\n",
    "    x = -np.cos(np.pi * np.arange(N + 1) / N) # points sur [-1, 1] (ordre croissant, d'où le signe -)\n",
    "    \n",
    "    # Chebyshev coefficients \n",
    "    c = np.ones(N + 1)\n",
    "    c[0], c[-1] = 2, 2\n",
    "    c *= (-1) ** np.arange(N + 1)\n",
    "    \n",
    "    # Computation of matrix D\n",
    "    X = np.tile(x, (N + 1, 1)).T\n",
    "    dX = X - X.T + np.eye(N + 1)\n",
    "    D = (np.outer(c, 1 / c)) / dX\n",
    "    D -= np.diag(np.sum(D, axis=1))\n",
    "    \n",
    "    # s s on [0, 1]\n",
    "    s = 0.5 * (x + 1)\n",
    "    \n",
    "    return 2 * D, s\n",
    "\n",
    "# === DISCRÉTISATION ===\n",
    "N = 100\n",
    "D, s = cheb_diff(N)\n",
    "D2 = D @ D\n",
    "n_p = N + 1\n",
    "size = 4 * n_p\n",
    "\n",
    "T_idx = np.arange(0, n_p)\n",
    "P_idx = np.arange(n_p, 2 * n_p)\n",
    "G_idx = np.arange(2 * n_p, 3 * n_p)\n",
    "F_idx = np.arange(3 * n_p, 4 * n_p)\n",
    "\n",
    "A = np.zeros((size, size), dtype=complex)\n",
    "B = np.zeros((size, size), dtype=complex)\n",
    "\n",
    "# === SYSTEM ===\n",
    "for j, sj in enumerate(s):\n",
    "    \n",
    "    # Equation 1 (curl of the motion eq., radial projection)\n",
    "    row = j\n",
    "    A[row, P_idx[j]] = -2j * Omega_rot * (k**3 * sj**2 + k * m**2)\n",
    "    A[row, G_idx[j]] = -1j * B0 / (mu0 * rho) * (k**3 * sj**2 + k * m**2)\n",
    "    A[row, F_idx[j]] = -2j * B0 / (mu0 * rho) * (k**2 * m)\n",
    "    B[row, T_idx[j]] = 1j * Omega_mass * (k**2 * sj**2 + m**2)\n",
    "    B[row, P_idx[j]] = 2j * Omega_mass * k * m\n",
    "    \n",
    "    # Equation 2 (double curl of the motion eq., radial projection)\n",
    "    row = n_p + j\n",
    "    A[row, T_idx[j]] = 2j * Omega_rot * (k**3 * sj**4 + k * m**2 * sj**2)\n",
    "    A[row, P_idx[j]] = 4j * Omega_rot * (k**2 * m * sj**2)\n",
    "    A[row, G_idx[j]] = 2j * B0 / (mu0 * rho) * (k**2 * m * sj**2)\n",
    "    coef0_F = 1j * B0 / (mu0 * rho) * (k**5 * sj**4 + k**3 * (2 * m**2 + 1) * sj**2 + k * (m**4 - m**2))\n",
    "    coef1_F = 1j * B0 / (mu0 * rho) * (-k**3 * sj**3 + k * m**2 * sj)\n",
    "    coef2_F = -1j * B0 / (mu0 * rho) * (k**3 * sj**4 + k * m**2 * sj**2)\n",
    "    A[row, F_idx] += coef0_F * np.eye(n_p)[j] + coef1_F * D[j] + coef2_F * D2[j]\n",
    "    B[row, T_idx[j]] = -2j * Omega_mass * (k * m * sj**2)\n",
    "    coef0_P = 1j * Omega_mass * ((m**2 - m**4) - (2 * m**2 + 1) * k**2 * sj**2 - k**4 * sj**4)\n",
    "    coef1_P = 1j * Omega_mass * (k**2 * sj**3 - m**2 * sj)\n",
    "    coef2_P = 1j * Omega_mass * (k**2 * sj**4 + m**2 * sj**2)\n",
    "    B[row, P_idx] += coef0_P * np.eye(n_p)[j] + coef1_P * D[j] + coef2_P * D2[j]\n",
    "    \n",
    "    # Equation 3 (induction equation, radial projection)\n",
    "    row = 2 * n_p + j\n",
    "    A[row, P_idx[j]] = -1j * B0 / (mu0 * rho) * (k**3 * sj**2 + k * m**2)\n",
    "    B[row, F_idx[j]] = 1j * (k**2 * sj**2 + m**2)\n",
    "\n",
    "    # Equation 4 (curl of induction equation, radial projection)\n",
    "    row = 3 * n_p + j\n",
    "    A[row, T_idx[j]] = 1j * B0 / (mu0 * rho) * (k**3 * sj**2 + k * m**2)\n",
    "    A[row, P_idx[j]] = 2j * B0 / (mu0 * rho) * (k**2 * m)\n",
    "    B[row, G_idx[j]] = -1j * (k**2 * sj**2 + m**2)\n",
    "    B[row, F_idx[j]] = -2j * k * m\n",
    "\n",
    "# === BOUNDARY CONDITIONS ===\n",
    "# Match with B_ext\n",
    "def compute_F1_dF1_G1(m, k, C):\n",
    "    F1 = ((-1j*C*k)/2*(k**2 + m**2)) * (yv(m + 1, -1j * k) - yv(m - 1, -1j * k))\n",
    "    dF1 = F1 - C * yv(m, -1j * k)\n",
    "    G1 = 0\n",
    "    return F1, dF1, G1\n",
    "\n",
    "F1_val, dF1_val, G1_val = compute_F1_dF1_G1(m, k, C)\n",
    "\n",
    "# Condition in s=0 : P(0)=0 or dP(0)=0 regarding m\n",
    "if m == 0 or m % 2 == 1:\n",
    "    A[P_idx[0], :] = 0\n",
    "    A[P_idx[0], P_idx[0]] = 1\n",
    "    B[P_idx[0], :] = 0\n",
    "else:\n",
    "    A[P_idx[0], :] = 0\n",
    "    A[P_idx[0], P_idx] = D[0, :]\n",
    "    B[P_idx[0], :] = 0\n",
    "    \n",
    "A[P_idx[-1], :] = 0\n",
    "A[P_idx[-1], P_idx[-1]] = 1\n",
    "B[P_idx[-1], :] = 0\n",
    "\n",
    "if solve_mhd :\n",
    "    A[G_idx[-1], :] = 0\n",
    "    A[G_idx[-1], G_idx[-1]] = 1\n",
    "    B[G_idx[-1], :] = 0\n",
    "\n",
    "    A[F_idx[-1], :] = 0\n",
    "    A[F_idx[-1], F_idx[-1]] = 1\n",
    "    B[F_idx[-1], :] = 0\n",
    "    B[F_idx[-1], F_idx[-1]] = F1_val\n",
    "else : \n",
    "    pass\n",
    "\n",
    "# === SYSTEM SOLVING ===\n",
    "omega_all, VEP_all = eig(A, B)\n",
    "mask = np.isfinite(omega_all) & (np.abs(omega_all.imag) < 1e-2)\n",
    "omega = omega_all[mask]\n",
    "VEP = VEP_all[:, mask]\n",
    "\n",
    "# === SOLUTION DOMINANTE ===\n",
    "idc_dom = np.argsort(-omega.real)\n",
    "omega_phys = omega[idc_dom]\n",
    "top_omegas = omega_phys[:50]\n",
    "u_dom = VEP[:, idc_dom[0]]\n",
    "u_total = u_dom\n",
    "\n",
    "T_vec = u_total[T_idx]\n",
    "P_vec = u_total[P_idx]\n",
    "G_vec = u_total[G_idx]\n",
    "F_vec = u_total[F_idx]\n",
    "\n",
    "# === AFFICHAGE DES RÉSULTATS ===\n",
    "#### Greenspan if Fluid case ####\n",
    "if solve_mhd == False : \n",
    "    # Affichage des résultats\n",
    "    print(\"Greenspan's eigenvalues vs MCWS : \")\n",
    "    print(\" \" * 67)\n",
    "    for i, (xi_val, lambda_val, omega_val) in enumerate(zip(roots[:5], lambdas[:5], top_omegas[:5]) ):\n",
    "        print(rf\"ξ_{i+1} = {xi_val:.5f}   ->   λ_{i+1} = {lambda_val:.5f} | Re(ω)_{i+1} = {omega_val.real:.5f}\")\n",
    "    print(\" \" * 67)    \n",
    "    # Comparaison with Greenspan's eigenvalues for Hydro\n",
    "    plt.figure(figsize=(8, 3))\n",
    "    plt.scatter(np.arange(len(roots)), lambdas, marker='_',label='Greenspan')\n",
    "    plt.scatter(np.arange(len(top_omegas)), np.real(top_omegas), marker='.',label='Chebychev')\n",
    "    plt.xlabel(r\"$i$\", fontsize=12)\n",
    "    plt.ylabel(r\"$\\lambda_{knm}$ - Re$(\\omega_{phys})$\", fontsize=12)\n",
    "    plt.title(rf\" Greenspan's $\\lambda$ vs MCWS's $\\omega$ pour $n={n_axial}$, $m={m}$\")\n",
    "    plt.legend()\n",
    "    plt.grid(True)\n",
    "    plt.show()\n",
    "\n",
    "    # Error \n",
    "    error = np.abs(lambdas - top_omegas)\n",
    "    MSE = np.real(np.square(np.subtract(lambdas,top_omegas)).mean())\n",
    "    print(f\"MSE = {MSE:.4}\")\n",
    "    print(\" \" * 67)\n",
    "    plt.figure(figsize=(10, 6))\n",
    "    plt.subplot(2, 2, 1)\n",
    "    plt.plot(s, np.abs(T_vec),color = 'royalblue'); plt.title(\"|T(s)|\"); plt.grid()\n",
    "    plt.subplot(2, 2, 2)\n",
    "    plt.plot(s, np.abs(P_vec),color = 'royalblue'); plt.title(\"|P(s)|\"); plt.grid()\n",
    "else : \n",
    "    #### Lundquist ####\n",
    "    if solve_Lundquist :\n",
    "        # previous code results\n",
    "        omega_MCWS_rad = np.array([3.83492, 7.19234, 10.39528, 13.55841, 16.70897,\n",
    "                                   19.85460, 22.99808, 26.14051, 29.28247, 32.42410], dtype=float)\n",
    "        omega_MCWS_ax  = np.array([3.14159, 6.28319, 9.42478, 12.56637, 15.70796,\n",
    "                                   18.84957, 21.99115, 25.13277, 28.27434, 31.41593], dtype=float)\n",
    "\n",
    "        print(f\"Ideal MHD (Lundquist) eigenfrequencies :\")\n",
    "        print(\" \" * 67)\n",
    "        print(f\"Alfvén speed V_A = {float(V_a):.1f}\\n\")\n",
    "        print(\" \" * 67)\n",
    "        print(r\"|   n |  omega_L_rad |omega_MCWS_rad|   omega_L_ax | omega_MCWS_ax|\")\n",
    "        print(\"-\" * 67)\n",
    "        for n, olr, omr, ola, oma in zip(range(1, N_l + 1), omega_L_rad, omega_MCWS_rad, omega_L_ax, omega_MCWS_ax):\n",
    "            print(f\"| {n:3d} | {float(olr):12.6f} | {float(omr):12.6f} | {float(ola):12.6f} | {float(oma):12.6f} |\")\n",
    "\n",
    "        # Check d’erreur\n",
    "        abs_err_rad = omega_MCWS_rad - omega_L_rad\n",
    "        abs_err_ax  = omega_MCWS_ax  - omega_L_ax\n",
    "        print(\"\\nMAE_rad = {:.3e}, MAE_ax = {:.3e}\".format(np.mean(np.abs(abs_err_rad)), np.mean(np.abs(abs_err_ax))))\n",
    "    \n",
    "    #### MHD GENERAL ####\n",
    "    else : \n",
    "        print(f\"Top 5 eigenvalues for (m, n) = ({m}, {n_axial}) :\")\n",
    "        for i, val in enumerate(top_omegas[:5]):\n",
    "            print(rf\"{i+1}. Re(ω) = {val.real:.5f}, Im(ω) = {val.imag:.5e}\")\n",
    "        plt.figure(figsize=(8, 4))\n",
    "        plt.plot(range(1,51), np.real(omega_phys[:50]), '.-', \n",
    "                 linewidth='1', markeredgewidth=2, color = 'orange' if solve_mhd else 'royalblue')\n",
    "        plt.xlabel(r\"$i$\")\n",
    "        plt.ylabel(r\"Re$(\\omega_{phys})$\")\n",
    "        plt.title(rf\"Eigenvalues $\\omega$ for (m, n) = ({m}, {n_axial})\")\n",
    "        plt.grid(True)\n",
    "        plt.show()\n",
    "        \n",
    "        # Eigenvectors\n",
    "        plt.figure(figsize=(10, 6))\n",
    "        plt.subplot(2, 2, 1)\n",
    "        plt.plot(s, np.abs(T_vec),color = 'royalblue'); plt.title(\"|T(s)|\"); plt.grid()\n",
    "        plt.subplot(2, 2, 2)\n",
    "        plt.plot(s, np.abs(P_vec),color = 'royalblue'); plt.title(\"|P(s)|\"); plt.grid()\n",
    "        plt.subplot(2, 2, 3)\n",
    "        plt.plot(s, np.abs(G_vec),color = 'orange'); plt.title(\"|G(s)|\"); plt.grid()\n",
    "        plt.subplot(2, 2, 4)\n",
    "        plt.plot(s, np.abs(F_vec),color = 'orange'); plt.title(\"|F(s)|\"); plt.grid()\n",
    "        plt.tight_layout()\n",
    "        plt.show()\n"
   ]
  },
  {
   "cell_type": "code",
   "execution_count": null,
   "id": "079811a5-6e12-47d9-baff-f747a74e45ba",
   "metadata": {},
   "outputs": [],
   "source": []
  }
 ],
 "metadata": {
  "kernelspec": {
   "display_name": "SageMath 10.2",
   "language": "sage",
   "name": "sagemath-10.2"
  },
  "language_info": {
   "codemirror_mode": {
    "name": "ipython",
    "version": 3
   },
   "file_extension": ".py",
   "mimetype": "text/x-python",
   "name": "python",
   "nbconvert_exporter": "python",
   "pygments_lexer": "ipython3",
   "version": "3.11.1"
  }
 },
 "nbformat": 4,
 "nbformat_minor": 5
}
